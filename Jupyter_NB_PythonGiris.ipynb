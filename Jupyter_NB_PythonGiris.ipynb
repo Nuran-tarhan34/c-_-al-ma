{
  "cells": [
    {
      "cell_type": "markdown",
      "metadata": {
        "id": "view-in-github",
        "colab_type": "text"
      },
      "source": [
        "<a href=\"https://colab.research.google.com/github/Nuran-tarhan34/c-_-al-ma/blob/main/Jupyter_NB_PythonGiris.ipynb\" target=\"_parent\"><img src=\"https://colab.research.google.com/assets/colab-badge.svg\" alt=\"Open In Colab\"/></a>"
      ]
    },
    {
      "cell_type": "markdown",
      "id": "dd0a2bd7",
      "metadata": {
        "id": "dd0a2bd7"
      },
      "source": [
        "## Jupyter INB ile Python Giriş\n",
        "Bu bölümde Python programlama dili ile ilgili temell konulara değinilmektedir."
      ]
    },
    {
      "cell_type": "markdown",
      "id": "ca2775d1",
      "metadata": {
        "id": "ca2775d1"
      },
      "source": [
        "# Başlık"
      ]
    },
    {
      "cell_type": "markdown",
      "id": "2423a3fc",
      "metadata": {
        "id": "2423a3fc"
      },
      "source": [
        "## Alt başlık 1"
      ]
    },
    {
      "cell_type": "markdown",
      "id": "a8c67765",
      "metadata": {
        "id": "a8c67765"
      },
      "source": [
        "### Alt Başlık2"
      ]
    },
    {
      "cell_type": "markdown",
      "id": "2071117f",
      "metadata": {
        "id": "2071117f"
      },
      "source": [
        "<b>Python'a Giriş</b> <br>\n",
        "<li> Html kodlarını kullanabilirsiniz."
      ]
    },
    {
      "cell_type": "markdown",
      "id": "aa2062e9",
      "metadata": {
        "id": "aa2062e9"
      },
      "source": [
        "Latext yazımı\n",
        "$$c = \\sqrt{a^2 + b^2}$$"
      ]
    },
    {
      "cell_type": "markdown",
      "id": "cbd917a9",
      "metadata": {
        "id": "cbd917a9"
      },
      "source": [
        "Bir resmi alıp kopyala yapıştır"
      ]
    },
    {
      "cell_type": "markdown",
      "id": "fd0efebc",
      "metadata": {
        "id": "fd0efebc"
      },
      "source": [
        "![image.png](attachment:image.png)"
      ]
    },
    {
      "cell_type": "markdown",
      "id": "10dc221a",
      "metadata": {
        "id": "10dc221a"
      },
      "source": [
        "URL ekleme\n",
        "![Resim Açıklaması](https://example.com/image.jpg)"
      ]
    },
    {
      "cell_type": "code",
      "execution_count": null,
      "id": "85b634dc",
      "metadata": {
        "id": "85b634dc",
        "outputId": "c29e572f-157c-4883-e5a6-1f00967c594f"
      },
      "outputs": [
        {
          "data": {
            "text/latex": [
              "$\\displaystyle F(k) = \\int_{-\\infty}^{\\infty} f(x) e^{2\\pi i k} dx$"
            ],
            "text/plain": [
              "<IPython.core.display.Math object>"
            ]
          },
          "metadata": {},
          "output_type": "display_data"
        }
      ],
      "source": [
        "from IPython.display import display, Math, Latex\n",
        "display(Math(r'F(k) = \\int_{-\\infty}^{\\infty} f(x) e^{2\\pi i k} dx'))"
      ]
    },
    {
      "cell_type": "markdown",
      "id": "f0e73f0b",
      "metadata": {
        "id": "f0e73f0b"
      },
      "source": [
        "###  komut satırı kullanımı"
      ]
    },
    {
      "cell_type": "code",
      "execution_count": null,
      "id": "4525bf74",
      "metadata": {
        "collapsed": true,
        "id": "4525bf74",
        "outputId": "13af08a2-c31c-48ee-bb09-c5c53d283a72"
      },
      "outputs": [
        {
          "name": "stdout",
          "output_type": "stream",
          "text": [
            " Volume in drive C is Windows\n",
            " Volume Serial Number is 4821-D018\n",
            "\n",
            " Directory of C:\\Users\\emura\\Documents\\Techist\\ders1\n",
            "\n",
            "23.05.2024  18:54    <DIR>          .\n",
            "23.05.2024  18:35    <DIR>          ..\n",
            "23.05.2024  18:42    <DIR>          .ipynb_checkpoints\n",
            "10.10.2016  10:50               487 client_list.csv\n",
            "11.02.2024  07:08            55.966 corona_dat.csv\n",
            "23.05.2024  18:54             3.160 Python GiriŸ.ipynb\n",
            "11.02.2024  07:08           131.528 supermarket.csv\n",
            "23.05.2024  17:57    <DIR>          titanic\n",
            "               4 File(s)        191.141 bytes\n",
            "               4 Dir(s)   2.577.690.624 bytes free\n"
          ]
        }
      ],
      "source": [
        "ls"
      ]
    },
    {
      "cell_type": "markdown",
      "id": "b422cc6d",
      "metadata": {
        "id": "b422cc6d"
      },
      "source": [
        "### print fonksiyonu\n",
        "String ifadeler"
      ]
    },
    {
      "cell_type": "code",
      "execution_count": null,
      "id": "36b9ceba",
      "metadata": {
        "id": "36b9ceba",
        "outputId": "6e070fb3-4cfc-463f-b137-66cd047a4829"
      },
      "outputs": [
        {
          "name": "stdout",
          "output_type": "stream",
          "text": [
            "Merhaba TechIstanbul\n"
          ]
        }
      ],
      "source": [
        "print('Merhaba TechIstanbul')"
      ]
    },
    {
      "cell_type": "code",
      "execution_count": null,
      "id": "e3302f7a",
      "metadata": {
        "id": "e3302f7a",
        "outputId": "074baa3f-5079-4dea-d343-1f07b2d49f3b"
      },
      "outputs": [
        {
          "data": {
            "text/plain": [
              "'Merhaba TechIstanbul'"
            ]
          },
          "execution_count": 3,
          "metadata": {},
          "output_type": "execute_result"
        }
      ],
      "source": [
        "'Merhaba TechIstanbul'"
      ]
    },
    {
      "cell_type": "code",
      "execution_count": null,
      "id": "8880c755",
      "metadata": {
        "id": "8880c755",
        "outputId": "83cd17ec-0d8b-47ae-ecf8-a05c3ae02832"
      },
      "outputs": [
        {
          "data": {
            "text/plain": [
              "'Merhaba TechIstanbul'"
            ]
          },
          "execution_count": 6,
          "metadata": {},
          "output_type": "execute_result"
        }
      ],
      "source": [
        "\"Merhaba TechIstanbul\""
      ]
    },
    {
      "cell_type": "code",
      "execution_count": null,
      "id": "d36baa5e",
      "metadata": {
        "id": "d36baa5e",
        "outputId": "29c7f912-618b-4873-bcb2-9d92ddf38ad4"
      },
      "outputs": [
        {
          "data": {
            "text/plain": [
              "\"'Merhaba TechIstanbul'\""
            ]
          },
          "execution_count": 4,
          "metadata": {},
          "output_type": "execute_result"
        }
      ],
      "source": [
        "\"'Merhaba TechIstanbul'\""
      ]
    },
    {
      "cell_type": "code",
      "execution_count": null,
      "id": "2f7c2697",
      "metadata": {
        "id": "2f7c2697",
        "outputId": "7baadfae-a91e-475c-840b-d184c62cc83f"
      },
      "outputs": [
        {
          "name": "stdout",
          "output_type": "stream",
          "text": [
            "'Merhaba TechIstanbul'\n"
          ]
        }
      ],
      "source": [
        "print (\"'Merhaba TechIstanbul'\")"
      ]
    },
    {
      "cell_type": "code",
      "execution_count": null,
      "id": "c398f689",
      "metadata": {
        "id": "c398f689",
        "outputId": "cea3d475-736e-4c2a-ccf8-e5d5c783d866"
      },
      "outputs": [
        {
          "data": {
            "text/plain": [
              "' \\nMerhaba\\nBen \\nMurat\\n'"
            ]
          },
          "execution_count": 14,
          "metadata": {},
          "output_type": "execute_result"
        }
      ],
      "source": [
        "'''\n",
        "Merhaba\n",
        "Ben\n",
        "Murat\n",
        "'''\n",
        "#Üç tırnak kullanldığında metni olduğu gibi yazar bu bir yorum satırı"
      ]
    },
    {
      "cell_type": "code",
      "execution_count": null,
      "id": "6feaf932",
      "metadata": {
        "collapsed": true,
        "id": "6feaf932",
        "outputId": "3db13974-69f9-4f80-e515-c6469c9303b0"
      },
      "outputs": [
        {
          "name": "stdout",
          "output_type": "stream",
          "text": [
            "1\n",
            "\n",
            "\n",
            "\n",
            "\n",
            "\n",
            "\n",
            "\n",
            "2\n"
          ]
        }
      ],
      "source": [
        "print('1\\n\\n\\n\\n\\n\\n\\n\\n2')# kaçış katrakterleri"
      ]
    },
    {
      "cell_type": "code",
      "execution_count": null,
      "id": "8654194f",
      "metadata": {
        "id": "8654194f",
        "outputId": "19ab917a-20a9-4e27-ea4a-351253c96687"
      },
      "outputs": [
        {
          "name": "stdout",
          "output_type": "stream",
          "text": [
            "Ocak\tŞubat\tMart\n"
          ]
        }
      ],
      "source": [
        "print('Ocak\\tŞubat\\tMart')"
      ]
    },
    {
      "cell_type": "code",
      "execution_count": null,
      "id": "d2cbba7f",
      "metadata": {
        "collapsed": true,
        "id": "d2cbba7f",
        "outputId": "51ea5a17-2c55-4a7d-c446-7dc8a97a70da"
      },
      "outputs": [
        {
          "name": "stdout",
          "output_type": "stream",
          "text": [
            "\n",
            "Merhaba\n",
            "Ben \n",
            "Murat\n",
            "\n"
          ]
        }
      ],
      "source": [
        "print('''\n",
        "Merhaba\n",
        "Ben\n",
        "Murat\n",
        "''')"
      ]
    },
    {
      "cell_type": "code",
      "execution_count": null,
      "id": "50f2d5e9",
      "metadata": {
        "collapsed": true,
        "id": "50f2d5e9",
        "outputId": "d742369c-ad83-4389-eb2e-082d0b165286"
      },
      "outputs": [
        {
          "name": "stdout",
          "output_type": "stream",
          "text": [
            "\n",
            "Merhaba\n",
            "Ben \n",
            "Murat\n",
            "\n"
          ]
        }
      ],
      "source": [
        "print(\"\"\"\n",
        "Merhaba\n",
        "Ben\n",
        "Murat\n",
        "\"\"\") # hangi tırnak türü ile başlandıysa onunla bitmeli"
      ]
    },
    {
      "cell_type": "code",
      "execution_count": null,
      "id": "1b847aec",
      "metadata": {
        "id": "1b847aec",
        "outputId": "c26e36a6-6f15-47d7-9614-50181f3b2c19"
      },
      "outputs": [
        {
          "ename": "SyntaxError",
          "evalue": "invalid syntax (1018004404.py, line 1)",
          "output_type": "error",
          "traceback": [
            "\u001b[1;36m  Cell \u001b[1;32mIn[21], line 1\u001b[1;36m\u001b[0m\n\u001b[1;33m    'Türkiye'nin başkenti Ankara'dır' #sözdizimi hatası\u001b[0m\n\u001b[1;37m             ^\u001b[0m\n\u001b[1;31mSyntaxError\u001b[0m\u001b[1;31m:\u001b[0m invalid syntax\n"
          ]
        }
      ],
      "source": [
        "'Türkiye'nin başkenti Ankara'dır' #sözdizimi hatası"
      ]
    },
    {
      "cell_type": "code",
      "execution_count": null,
      "id": "045ade0f",
      "metadata": {
        "id": "045ade0f",
        "outputId": "e39cce71-116f-40c9-c31b-6e5f885a0bbd"
      },
      "outputs": [
        {
          "data": {
            "text/plain": [
              "\"Türkiye'nin başkenti Ankara'dır\""
            ]
          },
          "execution_count": 22,
          "metadata": {},
          "output_type": "execute_result"
        }
      ],
      "source": [
        "\"Türkiye'nin başkenti Ankara'dır\""
      ]
    },
    {
      "cell_type": "code",
      "execution_count": null,
      "id": "a97f52fa",
      "metadata": {
        "id": "a97f52fa",
        "outputId": "b19329e7-83ae-4d19-dbb8-9243057a1f78"
      },
      "outputs": [
        {
          "data": {
            "text/plain": [
              "2.5"
            ]
          },
          "execution_count": 24,
          "metadata": {},
          "output_type": "execute_result"
        }
      ],
      "source": [
        "2.5"
      ]
    },
    {
      "cell_type": "markdown",
      "id": "20d62830",
      "metadata": {
        "id": "20d62830"
      },
      "source": [
        "### Veri Tipleri"
      ]
    },
    {
      "cell_type": "code",
      "execution_count": null,
      "id": "fc23ffcf",
      "metadata": {
        "id": "fc23ffcf"
      },
      "outputs": [],
      "source": [
        "#type() gömülü fonksiyondur veri tipini verir"
      ]
    },
    {
      "cell_type": "code",
      "execution_count": null,
      "id": "68462811",
      "metadata": {
        "id": "68462811",
        "outputId": "1fc8482b-239e-4b34-d047-1e5bc31059e0"
      },
      "outputs": [
        {
          "data": {
            "text/plain": [
              "str"
            ]
          },
          "execution_count": 25,
          "metadata": {},
          "output_type": "execute_result"
        }
      ],
      "source": [
        "type(\"Murat\") #karakter dizisi, string, metinsel ifade"
      ]
    },
    {
      "cell_type": "code",
      "execution_count": null,
      "id": "9afaf373",
      "metadata": {
        "id": "9afaf373",
        "outputId": "bd3288eb-be1f-40bb-8984-8608d3a03e28"
      },
      "outputs": [
        {
          "data": {
            "text/plain": [
              "float"
            ]
          },
          "execution_count": 26,
          "metadata": {},
          "output_type": "execute_result"
        }
      ],
      "source": [
        "type(2.5) #ondalıklı sayı"
      ]
    },
    {
      "cell_type": "code",
      "execution_count": null,
      "id": "011ef4aa",
      "metadata": {
        "id": "011ef4aa",
        "outputId": "e64bbcef-a608-4786-e436-21ae0e6b738b"
      },
      "outputs": [
        {
          "data": {
            "text/plain": [
              "str"
            ]
          },
          "execution_count": 28,
          "metadata": {},
          "output_type": "execute_result"
        }
      ],
      "source": [
        "type(\"2.5\") #karakter dizisi, string, metinsel ifade"
      ]
    },
    {
      "cell_type": "code",
      "execution_count": null,
      "id": "23e98e35",
      "metadata": {
        "id": "23e98e35",
        "outputId": "80a3c652-a4e9-492d-bceb-bbc7bbe1f078"
      },
      "outputs": [
        {
          "data": {
            "text/plain": [
              "int"
            ]
          },
          "execution_count": 30,
          "metadata": {},
          "output_type": "execute_result"
        }
      ],
      "source": [
        "type(2)#integer tamsayı"
      ]
    },
    {
      "cell_type": "code",
      "execution_count": null,
      "id": "255123ad",
      "metadata": {
        "id": "255123ad",
        "outputId": "34473b71-cd03-403f-bd5e-db7c920b8a7e"
      },
      "outputs": [
        {
          "data": {
            "text/plain": [
              "4.5"
            ]
          },
          "execution_count": 33,
          "metadata": {},
          "output_type": "execute_result"
        }
      ],
      "source": [
        "2+2.5"
      ]
    },
    {
      "cell_type": "code",
      "execution_count": null,
      "id": "95f8e0ec",
      "metadata": {
        "id": "95f8e0ec",
        "outputId": "ba61ed08-f3a3-4a16-aa9f-049bf204e884"
      },
      "outputs": [
        {
          "data": {
            "text/plain": [
              "'22.5'"
            ]
          },
          "execution_count": 35,
          "metadata": {},
          "output_type": "execute_result"
        }
      ],
      "source": [
        "'2'+'2.5' #metin olarak ele alır"
      ]
    },
    {
      "cell_type": "code",
      "execution_count": null,
      "id": "271a3507",
      "metadata": {
        "id": "271a3507",
        "outputId": "5ece9b70-03ad-4b3a-9ef4-82f9594abbae"
      },
      "outputs": [
        {
          "data": {
            "text/plain": [
              "'Murat Altun 124'"
            ]
          },
          "execution_count": 36,
          "metadata": {},
          "output_type": "execute_result"
        }
      ],
      "source": [
        "'Murat'+' '+'Altun'+' '+'124'"
      ]
    },
    {
      "cell_type": "code",
      "execution_count": null,
      "id": "fe60d9f5",
      "metadata": {
        "collapsed": true,
        "id": "fe60d9f5",
        "outputId": "6930a7a2-ae77-49ce-84ce-0b3acd57d97f"
      },
      "outputs": [
        {
          "ename": "TypeError",
          "evalue": "unsupported operand type(s) for +: 'int' and 'str'",
          "output_type": "error",
          "traceback": [
            "\u001b[1;31m---------------------------------------------------------------------------\u001b[0m",
            "\u001b[1;31mTypeError\u001b[0m                                 Traceback (most recent call last)",
            "Cell \u001b[1;32mIn[38], line 1\u001b[0m\n\u001b[1;32m----> 1\u001b[0m \u001b[38;5;241m2\u001b[39m\u001b[38;5;241m+\u001b[39m\u001b[38;5;124m'\u001b[39m\u001b[38;5;124m2.5\u001b[39m\u001b[38;5;124m'\u001b[39m\n",
            "\u001b[1;31mTypeError\u001b[0m: unsupported operand type(s) for +: 'int' and 'str'"
          ]
        }
      ],
      "source": [
        "2+'2.5' # int ile string birleştirme hatası"
      ]
    },
    {
      "cell_type": "code",
      "execution_count": null,
      "id": "9fa751d9",
      "metadata": {
        "id": "9fa751d9",
        "outputId": "0eb3a3fc-d7d3-475f-d1b6-f7d75a81c078"
      },
      "outputs": [
        {
          "name": "stdout",
          "output_type": "stream",
          "text": [
            "Murat\tMurat\tMurat\tMurat\tMurat\tMurat\tMurat\tMurat\tMurat\tMurat\tMurat\tMurat\tMurat\tMurat\tMurat\tMurat\tMurat\tMurat\tMurat\tMurat\tMurat\tMurat\tMurat\tMurat\tMurat\tMurat\tMurat\tMurat\tMurat\tMurat\tMurat\tMurat\tMurat\tMurat\tMurat\tMurat\tMurat\tMurat\tMurat\tMurat\tMurat\tMurat\tMurat\tMurat\tMurat\tMurat\tMurat\tMurat\tMurat\tMurat\tMurat\tMurat\tMurat\tMurat\tMurat\tMurat\tMurat\tMurat\tMurat\tMurat\tMurat\tMurat\tMurat\tMurat\tMurat\tMurat\tMurat\tMurat\tMurat\tMurat\tMurat\tMurat\tMurat\tMurat\tMurat\tMurat\tMurat\tMurat\tMurat\tMurat\tMurat\tMurat\tMurat\tMurat\tMurat\tMurat\tMurat\tMurat\tMurat\tMurat\tMurat\tMurat\tMurat\tMurat\tMurat\tMurat\tMurat\tMurat\tMurat\tMurat\tMurat\tMurat\tMurat\tMurat\tMurat\tMurat\tMurat\tMurat\tMurat\tMurat\tMurat\tMurat\tMurat\tMurat\tMurat\tMurat\tMurat\tMurat\tMurat\tMurat\tMurat\tMurat\tMurat\tMurat\t\n"
          ]
        }
      ],
      "source": [
        "print (124*'Murat\\t')"
      ]
    },
    {
      "cell_type": "code",
      "execution_count": null,
      "id": "9ae4b447",
      "metadata": {
        "id": "9ae4b447",
        "outputId": "c7d8de43-4022-458a-a32a-0b85482a6b89"
      },
      "outputs": [
        {
          "name": "stdout",
          "output_type": "stream",
          "text": [
            "P\ty\tt\th\to\tn\n"
          ]
        }
      ],
      "source": [
        "print(*'Python', sep='\\t')"
      ]
    },
    {
      "cell_type": "raw",
      "id": "215706c7",
      "metadata": {
        "id": "215706c7"
      },
      "source": [
        "Python'da * operatörünün farklı veri türlerinde farklı işlevler görmesine \"operator overloading\" (operatör aşırı yükleme) denir. Operatör aşırı yükleme, bir operatörün farklı veri türlerine uygulanabilir olmasını ve her veri türü için farklı bir işlev görmesini sağlar."
      ]
    },
    {
      "cell_type": "markdown",
      "id": "e070c34a",
      "metadata": {
        "id": "e070c34a"
      },
      "source": [
        "### Veri Türleri"
      ]
    },
    {
      "cell_type": "code",
      "execution_count": null,
      "id": "699b10f2",
      "metadata": {
        "id": "699b10f2",
        "outputId": "a6b9ce25-b5c7-4eef-d6f9-75d8cd00665e"
      },
      "outputs": [
        {
          "name": "stdout",
          "output_type": "stream",
          "text": [
            "{1, 2, 3}\n"
          ]
        }
      ],
      "source": [
        "#değişken adları vs\n",
        "sayi=10 #int\n",
        "sayi='TechIstanbul' #str\n",
        "sayi=10.5 #float\n",
        "sayi=5+3j #complex\n",
        "sayi=True #bool\n",
        "sayi=None #none\n",
        "sayi=[1,2,3] #list\n",
        "sayi=(1,2,3) #tuple\n",
        "sayi={'a':1,'b':2,'c':3} #dict\n",
        "sayi={1,2,3} #set\n",
        "print(sayi)"
      ]
    },
    {
      "cell_type": "code",
      "execution_count": null,
      "id": "b3735b1d",
      "metadata": {
        "id": "b3735b1d",
        "outputId": "92b804bf-7eae-4a19-828d-bf53861dbd3f"
      },
      "outputs": [
        {
          "name": "stdout",
          "output_type": "stream",
          "text": [
            "['False', 'None', 'True', 'and', 'as', 'assert', 'async', 'await', 'break', 'class', 'continue', 'def', 'del', 'elif', 'else', 'except', 'finally', 'for', 'from', 'global', 'if', 'import', 'in', 'is', 'lambda', 'nonlocal', 'not', 'or', 'pass', 'raise', 'return', 'try', 'while', 'with', 'yield']\n"
          ]
        }
      ],
      "source": [
        "import keyword\n",
        "print(keyword.kwlist) #değişken adı olarak kullnaılamaz"
      ]
    },
    {
      "cell_type": "code",
      "execution_count": null,
      "id": "38a21d31",
      "metadata": {
        "id": "38a21d31"
      },
      "outputs": [],
      "source": [
        "#snake tipi değişken adlandırma\n",
        "sayi_1=10 # _ alt tire işareti\n",
        "sayi_2=20\n",
        "sayi_3=30"
      ]
    },
    {
      "cell_type": "markdown",
      "id": "6a752112",
      "metadata": {
        "id": "6a752112"
      },
      "source": [
        "## Koşul ifadeleri"
      ]
    },
    {
      "cell_type": "code",
      "execution_count": null,
      "id": "c0552d1c",
      "metadata": {
        "id": "c0552d1c"
      },
      "outputs": [],
      "source": [
        "sayi=10 #atama operatörü"
      ]
    },
    {
      "cell_type": "code",
      "execution_count": null,
      "id": "9a11bb1d",
      "metadata": {
        "id": "9a11bb1d",
        "outputId": "af5a5a88-b48f-4033-d559-a50a90874f5e"
      },
      "outputs": [
        {
          "name": "stdout",
          "output_type": "stream",
          "text": [
            "Gectiniz\n"
          ]
        }
      ],
      "source": [
        "vize=55 #%40 etkilesin\n",
        "final=55 #%60 etkilesin\n",
        "gecme_puani=55\n",
        "ortalama=(vize*.4)+(final*.6)\n",
        "if ortalama>=gecme_puani:print('Gectiniz')\n",
        "else:print('Kaldınız')"
      ]
    },
    {
      "cell_type": "code",
      "execution_count": null,
      "id": "1abe8ed0",
      "metadata": {
        "id": "1abe8ed0",
        "outputId": "ab9483ef-033f-4512-d53f-22ea9d923820"
      },
      "outputs": [
        {
          "data": {
            "text/plain": [
              "True"
            ]
          },
          "execution_count": 56,
          "metadata": {},
          "output_type": "execute_result"
        }
      ],
      "source": [
        "True if ortalama>=gecme_puani else False"
      ]
    },
    {
      "cell_type": "code",
      "execution_count": null,
      "id": "e6dfc18f",
      "metadata": {
        "id": "e6dfc18f",
        "outputId": "21c87d70-8d4f-4ef3-c98e-29da7d9c2d95"
      },
      "outputs": [
        {
          "name": "stdout",
          "output_type": "stream",
          "text": [
            "Tam sınırda\n"
          ]
        }
      ],
      "source": [
        "if ortalama>gecme_puani:\n",
        "    print('Gectiniz')\n",
        "else:\n",
        "    if ortalama==gecme_puani:\n",
        "        print('Tam sınırda')\n",
        "    else:print(\"Kaldınız\")"
      ]
    },
    {
      "cell_type": "markdown",
      "id": "d58743e1",
      "metadata": {
        "id": "d58743e1"
      },
      "source": [
        "### Fonksiyon hakkında bilgi ve yardım"
      ]
    },
    {
      "cell_type": "code",
      "execution_count": null,
      "id": "e71fd210",
      "metadata": {
        "id": "e71fd210",
        "outputId": "dd38cc8b-faf2-4477-a6f9-72004b1596da"
      },
      "outputs": [
        {
          "data": {
            "text/plain": [
              "<function print(*args, sep=' ', end='\\n', file=None, flush=False)>"
            ]
          },
          "execution_count": 59,
          "metadata": {},
          "output_type": "execute_result"
        }
      ],
      "source": [
        "#Fonksiyonun kendini verir\n",
        "print"
      ]
    },
    {
      "cell_type": "code",
      "execution_count": null,
      "id": "2d0cd7f1",
      "metadata": {
        "collapsed": true,
        "id": "2d0cd7f1",
        "outputId": "ef020675-7571-4c22-800b-e882209a6911"
      },
      "outputs": [
        {
          "name": "stdout",
          "output_type": "stream",
          "text": [
            "Help on built-in function print in module builtins:\n",
            "\n",
            "print(*args, sep=' ', end='\\n', file=None, flush=False)\n",
            "    Prints the values to a stream, or to sys.stdout by default.\n",
            "    \n",
            "    sep\n",
            "      string inserted between values, default a space.\n",
            "    end\n",
            "      string appended after the last value, default a newline.\n",
            "    file\n",
            "      a file-like object (stream); defaults to the current sys.stdout.\n",
            "    flush\n",
            "      whether to forcibly flush the stream.\n",
            "\n"
          ]
        }
      ],
      "source": [
        "help(print)"
      ]
    },
    {
      "cell_type": "code",
      "execution_count": null,
      "id": "54fd178b",
      "metadata": {
        "id": "54fd178b",
        "outputId": "32d27290-2d09-45de-a093-adb3cc3413fa"
      },
      "outputs": [
        {
          "name": "stdout",
          "output_type": "stream",
          "text": [
            "Merhaba\n",
            "TechIstanbul\n"
          ]
        }
      ],
      "source": [
        "    print('Merhaba');print('TechIstanbul') #; ile birden fazla satır yazılabilir"
      ]
    },
    {
      "cell_type": "code",
      "execution_count": null,
      "id": "1664c0ed",
      "metadata": {
        "id": "1664c0ed"
      },
      "outputs": [],
      "source": [
        "sayi=int()"
      ]
    },
    {
      "cell_type": "code",
      "execution_count": null,
      "id": "6044ab24",
      "metadata": {
        "id": "6044ab24",
        "outputId": "f714fe8b-b693-45cb-eb7a-d08c13a53fe2"
      },
      "outputs": [
        {
          "data": {
            "text/plain": [
              "0"
            ]
          },
          "execution_count": 63,
          "metadata": {},
          "output_type": "execute_result"
        }
      ],
      "source": [
        "sayi"
      ]
    },
    {
      "cell_type": "markdown",
      "id": "c4cf23a4",
      "metadata": {
        "id": "c4cf23a4"
      },
      "source": [
        "### Karakter dizileri dilimleme ve str metotları"
      ]
    },
    {
      "cell_type": "code",
      "execution_count": null,
      "id": "3990f8a8",
      "metadata": {
        "id": "3990f8a8",
        "outputId": "eb3066de-030e-401c-d31c-f6f5e825fb81"
      },
      "outputs": [
        {
          "data": {
            "text/plain": [
              "'Tech'"
            ]
          },
          "execution_count": 66,
          "metadata": {},
          "output_type": "execute_result"
        }
      ],
      "source": [
        "ad='TechIstanbul'\n",
        "ad[0:4] #ilk 4 karakteri al"
      ]
    },
    {
      "cell_type": "code",
      "execution_count": null,
      "id": "79d12c1c",
      "metadata": {
        "id": "79d12c1c",
        "outputId": "40850a8e-1ed2-478f-b378-e3035172c34a"
      },
      "outputs": [
        {
          "data": {
            "text/plain": [
              "'l'"
            ]
          },
          "execution_count": 68,
          "metadata": {},
          "output_type": "execute_result"
        }
      ],
      "source": [
        "ad[-1]#sondan 1."
      ]
    },
    {
      "cell_type": "code",
      "execution_count": null,
      "id": "3275f261",
      "metadata": {
        "id": "3275f261",
        "outputId": "a6e0eee9-91f2-4561-f31f-6096e517aa7f"
      },
      "outputs": [
        {
          "data": {
            "text/plain": [
              "'TechIstanbu'"
            ]
          },
          "execution_count": 73,
          "metadata": {},
          "output_type": "execute_result"
        }
      ],
      "source": [
        "ad[:-1] #sondan birinciye kadar"
      ]
    },
    {
      "cell_type": "code",
      "execution_count": null,
      "id": "d5367570",
      "metadata": {
        "id": "d5367570",
        "outputId": "e332a0f4-b4d9-4bc1-fd3c-69c1826ad7d3"
      },
      "outputs": [
        {
          "data": {
            "text/plain": [
              "'TechIstanb'"
            ]
          },
          "execution_count": 74,
          "metadata": {},
          "output_type": "execute_result"
        }
      ],
      "source": [
        "ad[:-2]"
      ]
    },
    {
      "cell_type": "code",
      "execution_count": null,
      "id": "a33ff3df",
      "metadata": {
        "id": "a33ff3df",
        "outputId": "29538644-bf91-4dd0-bce1-da00d535ed6d"
      },
      "outputs": [
        {
          "data": {
            "text/plain": [
              "'TcItnu'"
            ]
          },
          "execution_count": 76,
          "metadata": {},
          "output_type": "execute_result"
        }
      ],
      "source": [
        "ad[::2]"
      ]
    },
    {
      "cell_type": "code",
      "execution_count": null,
      "id": "29943f4d",
      "metadata": {
        "id": "29943f4d",
        "outputId": "7cd088b7-bb16-4ffb-f589-1eda797637b7"
      },
      "outputs": [
        {
          "data": {
            "text/plain": [
              "'lubnatsIhceT'"
            ]
          },
          "execution_count": 77,
          "metadata": {},
          "output_type": "execute_result"
        }
      ],
      "source": [
        "ad[::-1]#metni tersine çevir"
      ]
    },
    {
      "cell_type": "code",
      "execution_count": null,
      "id": "823c8f28",
      "metadata": {
        "id": "823c8f28",
        "outputId": "f3958bfa-d920-4f02-aaa2-6d0bd0914dda"
      },
      "outputs": [
        {
          "data": {
            "text/plain": [
              "'MURAT'"
            ]
          },
          "execution_count": 80,
          "metadata": {},
          "output_type": "execute_result"
        }
      ],
      "source": [
        "\"Murat\".upper() #tamamını büyük harf"
      ]
    },
    {
      "cell_type": "code",
      "execution_count": null,
      "id": "4be17ba1",
      "metadata": {
        "id": "4be17ba1",
        "outputId": "03d9fc14-8110-4d99-f2dc-c46f268ae459"
      },
      "outputs": [
        {
          "data": {
            "text/plain": [
              "'murat'"
            ]
          },
          "execution_count": 81,
          "metadata": {},
          "output_type": "execute_result"
        }
      ],
      "source": [
        "\"Murat\".lower() #tamamını kuçük harf"
      ]
    },
    {
      "cell_type": "code",
      "execution_count": null,
      "id": "83f99573",
      "metadata": {
        "id": "83f99573",
        "outputId": "03578ca5-e227-49ed-c4f8-029469727e78"
      },
      "outputs": [
        {
          "data": {
            "text/plain": [
              "'Murat altun'"
            ]
          },
          "execution_count": 83,
          "metadata": {},
          "output_type": "execute_result"
        }
      ],
      "source": [
        "\"murat altun\".capitalize() #ilk harfi büyük harf yapar"
      ]
    },
    {
      "cell_type": "code",
      "execution_count": null,
      "id": "db1e1b22",
      "metadata": {
        "id": "db1e1b22",
        "outputId": "8ca8028d-9409-44ed-d5ef-b72939fd4f2d"
      },
      "outputs": [
        {
          "data": {
            "text/plain": [
              "'Murat Altun'"
            ]
          },
          "execution_count": 84,
          "metadata": {},
          "output_type": "execute_result"
        }
      ],
      "source": [
        "\"murat altun\".title() #her kelimenin ilk harfini baş harf yapar"
      ]
    },
    {
      "cell_type": "code",
      "execution_count": null,
      "id": "4be2ecf7",
      "metadata": {
        "id": "4be2ecf7",
        "outputId": "55ca3156-0fd1-42ef-f009-9a6fb45a5653"
      },
      "outputs": [
        {
          "data": {
            "text/plain": [
              "['murat', 'altun']"
            ]
          },
          "execution_count": 86,
          "metadata": {},
          "output_type": "execute_result"
        }
      ],
      "source": [
        "\"murat altun\".split() #metni boşluklara ayırır ve listeye çevirir"
      ]
    },
    {
      "cell_type": "code",
      "execution_count": null,
      "id": "ebd4dbcc",
      "metadata": {
        "id": "ebd4dbcc",
        "outputId": "a91be935-4d3f-4b82-c9a4-5db662526e3a"
      },
      "outputs": [
        {
          "data": {
            "text/plain": [
              "['ocak', 'şubat', 'mart']"
            ]
          },
          "execution_count": 87,
          "metadata": {},
          "output_type": "execute_result"
        }
      ],
      "source": [
        "\"ocak-şubat-mart\".split('-')"
      ]
    },
    {
      "cell_type": "markdown",
      "id": "003dfcdb",
      "metadata": {
        "id": "003dfcdb"
      },
      "source": [
        "### Döngüler"
      ]
    },
    {
      "cell_type": "code",
      "execution_count": null,
      "id": "94a59060",
      "metadata": {
        "collapsed": true,
        "id": "94a59060",
        "outputId": "978ebe9e-7e6a-46f5-eedc-82a4beeae25b"
      },
      "outputs": [
        {
          "name": "stdout",
          "output_type": "stream",
          "text": [
            "0\n",
            "1\n",
            "2\n",
            "3\n",
            "4\n",
            "5\n",
            "6\n",
            "7\n",
            "8\n",
            "9\n"
          ]
        }
      ],
      "source": [
        "#while\n",
        "i=0\n",
        "while i<10:\n",
        "    print(i)\n",
        "    i+=1\n",
        "#döngü dışı devam"
      ]
    },
    {
      "cell_type": "code",
      "execution_count": null,
      "id": "0f6e0e80",
      "metadata": {
        "collapsed": true,
        "id": "0f6e0e80",
        "outputId": "c59775ac-87e7-466a-c5b2-d251756fce93"
      },
      "outputs": [
        {
          "name": "stdout",
          "output_type": "stream",
          "text": [
            "0\n",
            "1\n",
            "2\n",
            "3\n",
            "4\n",
            "5\n",
            "6\n",
            "7\n",
            "8\n",
            "9\n"
          ]
        }
      ],
      "source": [
        "#for\n",
        "for i in range(10):\n",
        "    print(i)"
      ]
    },
    {
      "cell_type": "code",
      "execution_count": null,
      "id": "4dce88e2",
      "metadata": {
        "id": "4dce88e2"
      },
      "outputs": [],
      "source": [
        "sayi_listesi=[1,2,3,4,5,6,7,8,9,10]"
      ]
    },
    {
      "cell_type": "code",
      "execution_count": null,
      "id": "313c81c0",
      "metadata": {
        "id": "313c81c0",
        "outputId": "23d99a25-d585-4583-ef2a-8fafdde3ffd9"
      },
      "outputs": [
        {
          "name": "stdout",
          "output_type": "stream",
          "text": [
            "5\n",
            "10\n",
            "Döngü dışı, Normal akış\n"
          ]
        }
      ],
      "source": [
        "for sayi in sayi_listesi:\n",
        "    if sayi%5==0:\n",
        "        print(sayi)\n",
        "print('Döngü dışı, Normal akış')"
      ]
    },
    {
      "cell_type": "code",
      "execution_count": null,
      "id": "4b2dc90d",
      "metadata": {
        "collapsed": true,
        "id": "4b2dc90d",
        "outputId": "99706c31-8477-4452-a88e-ea7fcec1c99e"
      },
      "outputs": [
        {
          "name": "stdout",
          "output_type": "stream",
          "text": [
            "1\t2\t3\t4\t5\t6\t7\t8\t9\t10\t11\t12\t13\t14\t15\t16\t17\t18\t19\t20\t21\t22\t23\t24\t25\t26\t27\t28\t29\t30\t31\t32\t33\t34\t35\t36\t37\t38\t39\t40\t41\t42\t43\t44\t45\t46\t47\t48\t49\t50\t51\t52\t53\t54\t55\t56\t57\t58\t59\t60\t61\t62\t63\t64\t65\t66\t67\t68\t69\t70\t71\t72\t73\t74\t75\t76\t77\t78\t79\t80\t81\t82\t83\t84\t85\t86\t87\t88\t89\t90\t91\t92\t93\t94\t95\t96\t97\t98\t99\t100\n"
          ]
        }
      ],
      "source": [
        "sayi_listesi=list(range(1,101,1))\n",
        "print(*sayi_listesi, sep='\\t')"
      ]
    },
    {
      "cell_type": "code",
      "execution_count": null,
      "id": "2c750e93",
      "metadata": {
        "collapsed": true,
        "id": "2c750e93",
        "outputId": "c1802a08-9c10-4258-8e6c-69777308a6b9"
      },
      "outputs": [
        {
          "name": "stdout",
          "output_type": "stream",
          "text": [
            "1\t2\t3\t4\t5\t6\t7\t8\t9\t10\t11\t12\t13\t14\t15\t16\t17\t18\t19\t20\t21\t22\t23\t24\t25\t26\t27\t28\t29\t30\t31\t32\t33\t34\t35\t36\t37\t38\t39\t40\t41\t42\t43\t44\t45\t46\t47\t48\t49\t50\t51\t52\t53\t54\t55\t56\t57\t58\t59\t60\t61\t62\t63\t64\t65\t66\t67\t68\t69\t70\t71\t72\t73\t74\t75\t76\t77\t78\t79\t80\t81\t82\t83\t84\t85\t86\t87\t88\t89\t90\t91\t92\t93\t94\t95\t96\t97\t98\t99\t100\n"
          ]
        }
      ],
      "source": [
        "print(*list(range(1,101,1)), sep='\\t')"
      ]
    },
    {
      "cell_type": "code",
      "execution_count": null,
      "id": "67d9ba3d",
      "metadata": {
        "collapsed": true,
        "id": "67d9ba3d",
        "outputId": "c9364946-65d6-409e-9923-b68b72c6bd51"
      },
      "outputs": [
        {
          "name": "stdout",
          "output_type": "stream",
          "text": [
            "[1, 2, 3, 4, 5, 6, 7, 8, 9, 10, 11, 12, 13, 14, 15, 16, 17, 18, 19, 20, 21, 22, 23, 24, 25, 26, 27, 28, 29, 30, 31, 32, 33, 34, 35, 36, 37, 38, 39, 40, 41, 42, 43, 44, 45, 46, 47, 48, 49, 50, 51, 52, 53, 54, 55, 56, 57, 58, 59, 60, 61, 62, 63, 64, 65, 66, 67, 68, 69, 70, 71, 72, 73, 74, 75, 76, 77, 78, 79, 80, 81, 82, 83, 84, 85, 86, 87, 88, 89, 90, 91, 92, 93, 94, 95, 96, 97, 98, 99, 100]\n"
          ]
        }
      ],
      "source": [
        "print(list(range(1,101,1)))"
      ]
    },
    {
      "cell_type": "markdown",
      "id": "f9a52b64",
      "metadata": {
        "id": "f9a52b64"
      },
      "source": [
        "### List Comprehensions"
      ]
    },
    {
      "cell_type": "code",
      "execution_count": null,
      "id": "36f128f5",
      "metadata": {
        "collapsed": true,
        "id": "36f128f5",
        "outputId": "6989f6c5-9b06-40eb-80cd-5fd10057dd95"
      },
      "outputs": [
        {
          "data": {
            "text/plain": [
              "[25,\n",
              " 100,\n",
              " 225,\n",
              " 400,\n",
              " 625,\n",
              " 900,\n",
              " 1225,\n",
              " 1600,\n",
              " 2025,\n",
              " 2500,\n",
              " 3025,\n",
              " 3600,\n",
              " 4225,\n",
              " 4900,\n",
              " 5625,\n",
              " 6400,\n",
              " 7225,\n",
              " 8100,\n",
              " 9025,\n",
              " 10000]"
            ]
          },
          "execution_count": 102,
          "metadata": {},
          "output_type": "execute_result"
        }
      ],
      "source": [
        "[sayi**2 for sayi in sayi_listesi if sayi%5==0]"
      ]
    },
    {
      "cell_type": "code",
      "execution_count": null,
      "id": "f9897a55",
      "metadata": {
        "id": "f9897a55",
        "outputId": "c9015a8b-8b94-4ab3-de92-63896847594d"
      },
      "outputs": [
        {
          "data": {
            "text/plain": [
              "25"
            ]
          },
          "execution_count": 103,
          "metadata": {},
          "output_type": "execute_result"
        }
      ],
      "source": [
        "#lambda tek satırlık fonksiyon\n",
        "(lambda x:x**2)(5)"
      ]
    },
    {
      "cell_type": "code",
      "execution_count": null,
      "id": "626db2d0",
      "metadata": {
        "collapsed": true,
        "id": "626db2d0",
        "outputId": "21f66c43-e917-467c-85b4-0e04e3dd38d1"
      },
      "outputs": [
        {
          "name": "stdout",
          "output_type": "stream",
          "text": [
            "1\n",
            "4\n",
            "9\n",
            "16\n",
            "25\n"
          ]
        }
      ],
      "source": [
        "def kare_al(x):\n",
        "    return x**2\n",
        "sayilar=[1,2,3,4,5]\n",
        "for i in sayilar:\n",
        "    print(kare_al(i))"
      ]
    },
    {
      "cell_type": "code",
      "execution_count": null,
      "id": "f08fd304",
      "metadata": {
        "id": "f08fd304",
        "outputId": "c586de3c-63d3-46b9-8446-4bddccdb573e"
      },
      "outputs": [
        {
          "data": {
            "text/plain": [
              "[1, 4, 9, 16, 25]"
            ]
          },
          "execution_count": 129,
          "metadata": {},
          "output_type": "execute_result"
        }
      ],
      "source": [
        "kareleri=map(kare_al, sayilar) #verilen fonksiyonu verilen listeye maple\n",
        "list(kareleri)"
      ]
    },
    {
      "cell_type": "code",
      "execution_count": null,
      "id": "00b83055",
      "metadata": {
        "id": "00b83055",
        "outputId": "de8deaaf-7296-4816-f4e4-b22840f6f4ce"
      },
      "outputs": [
        {
          "data": {
            "text/plain": [
              "[1, 4, 9, 16, 25]"
            ]
          },
          "execution_count": 131,
          "metadata": {},
          "output_type": "execute_result"
        }
      ],
      "source": [
        "kareleri2=map(lambda x:x**2, sayilar)#tanımlanmış fonksiyon adı yerine tek satırlık fonkisyonu olıuşturalım\n",
        "list(kareleri2)"
      ]
    },
    {
      "cell_type": "code",
      "execution_count": null,
      "id": "38a58c92",
      "metadata": {
        "id": "38a58c92"
      },
      "outputs": [],
      "source": [
        "def ikinin_kati(sayi):\n",
        "    if sayi%2==0:\n",
        "        return True\n",
        "    else:False\n"
      ]
    },
    {
      "cell_type": "markdown",
      "id": "b3c9a0e7",
      "metadata": {
        "id": "b3c9a0e7"
      },
      "source": [
        "### Filter tanımlama"
      ]
    },
    {
      "cell_type": "code",
      "execution_count": null,
      "id": "d42bfe3c",
      "metadata": {
        "id": "d42bfe3c"
      },
      "outputs": [],
      "source": [
        "def kare_al(x):\n",
        "    return x**2"
      ]
    },
    {
      "cell_type": "code",
      "execution_count": null,
      "id": "06040eca",
      "metadata": {
        "id": "06040eca",
        "outputId": "7007690e-d6dd-4d52-ee1e-b660db136356"
      },
      "outputs": [
        {
          "data": {
            "text/plain": [
              "[2, 4]"
            ]
          },
          "execution_count": 136,
          "metadata": {},
          "output_type": "execute_result"
        }
      ],
      "source": [
        "sayi_listeis=[1,2,3,4,5]\n",
        "list(filter(ikinin_kati, sayi_listeis))"
      ]
    },
    {
      "cell_type": "code",
      "execution_count": null,
      "id": "af228938",
      "metadata": {
        "id": "af228938",
        "outputId": "75af4edc-f0e5-4f29-f094-e0f436d9a508"
      },
      "outputs": [
        {
          "data": {
            "text/plain": [
              "25"
            ]
          },
          "execution_count": 119,
          "metadata": {},
          "output_type": "execute_result"
        }
      ],
      "source": [
        "kare_al(5)"
      ]
    },
    {
      "cell_type": "code",
      "execution_count": null,
      "id": "5bd7deff",
      "metadata": {
        "id": "5bd7deff"
      },
      "outputs": [],
      "source": [
        "def kare_al(x=5):\n",
        "    return x**2"
      ]
    },
    {
      "cell_type": "code",
      "execution_count": null,
      "id": "c4c36f37",
      "metadata": {
        "id": "c4c36f37",
        "outputId": "4b18cd00-48a6-4b89-8df3-88943bee681a"
      },
      "outputs": [
        {
          "data": {
            "text/plain": [
              "25"
            ]
          },
          "execution_count": 121,
          "metadata": {},
          "output_type": "execute_result"
        }
      ],
      "source": [
        "kare_al() #fonksiyona değer vermezseniz varsayılan değeri kullaır"
      ]
    },
    {
      "cell_type": "code",
      "execution_count": null,
      "id": "1eef7c5b",
      "metadata": {
        "id": "1eef7c5b",
        "outputId": "4700a27b-87e4-44c4-f926-2b7d2377bc48"
      },
      "outputs": [
        {
          "name": "stdout",
          "output_type": "stream",
          "text": [
            "Merhaba TechIstanbul Python\n"
          ]
        }
      ],
      "source": [
        "print('Merhaba', 'TechIstanbul', 'Python')"
      ]
    },
    {
      "cell_type": "code",
      "execution_count": null,
      "id": "b0da2fe8",
      "metadata": {
        "id": "b0da2fe8",
        "outputId": "17faadef-b235-4230-c68d-ab733e0c20f5"
      },
      "outputs": [
        {
          "name": "stdout",
          "output_type": "stream",
          "text": [
            "Merhaba*TechIstanbul*Python\n"
          ]
        }
      ],
      "source": [
        "print('Merhaba', 'TechIstanbul', 'Python',sep='*')"
      ]
    },
    {
      "cell_type": "code",
      "execution_count": null,
      "id": "d76bdbf1",
      "metadata": {
        "id": "d76bdbf1"
      },
      "outputs": [],
      "source": []
    }
  ],
  "metadata": {
    "kernelspec": {
      "display_name": "Python 3 (ipykernel)",
      "language": "python",
      "name": "python3"
    },
    "language_info": {
      "codemirror_mode": {
        "name": "ipython",
        "version": 3
      },
      "file_extension": ".py",
      "mimetype": "text/x-python",
      "name": "python",
      "nbconvert_exporter": "python",
      "pygments_lexer": "ipython3",
      "version": "3.11.5"
    },
    "colab": {
      "provenance": [],
      "include_colab_link": true
    }
  },
  "nbformat": 4,
  "nbformat_minor": 5
}