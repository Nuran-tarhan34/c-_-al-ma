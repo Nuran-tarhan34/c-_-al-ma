{
  "cells": [
    {
      "cell_type": "markdown",
      "metadata": {
        "id": "view-in-github",
        "colab_type": "text"
      },
      "source": [
        "<a href=\"https://colab.research.google.com/github/Nuran-tarhan34/c-_-al-ma/blob/main/titanickaggle.ipynb\" target=\"_parent\"><img src=\"https://colab.research.google.com/assets/colab-badge.svg\" alt=\"Open In Colab\"/></a>"
      ]
    },
    {
      "cell_type": "code",
      "execution_count": null,
      "id": "718e9ae4",
      "metadata": {
        "execution": {
          "iopub.execute_input": "2024-06-06T18:06:07.461819Z",
          "iopub.status.busy": "2024-06-06T18:06:07.461429Z",
          "iopub.status.idle": "2024-06-06T18:06:09.732266Z",
          "shell.execute_reply": "2024-06-06T18:06:09.731133Z"
        },
        "papermill": {
          "duration": 2.291875,
          "end_time": "2024-06-06T18:06:09.735056",
          "exception": false,
          "start_time": "2024-06-06T18:06:07.443181",
          "status": "completed"
        },
        "tags": [],
        "id": "718e9ae4"
      },
      "outputs": [],
      "source": [
        "#kütüphaneleri yükle\n",
        "import pandas as pd\n",
        "import numpy as np\n",
        "import matplotlib.pyplot as plt\n",
        "import seaborn as sns\n",
        "import warnings\n",
        "warnings.filterwarnings(\"ignore\")"
      ]
    },
    {
      "cell_type": "code",
      "execution_count": null,
      "id": "8eb9be18",
      "metadata": {
        "execution": {
          "iopub.execute_input": "2024-06-06T18:06:09.768229Z",
          "iopub.status.busy": "2024-06-06T18:06:09.767142Z",
          "iopub.status.idle": "2024-06-06T18:06:09.801078Z",
          "shell.execute_reply": "2024-06-06T18:06:09.800081Z"
        },
        "papermill": {
          "duration": 0.053207,
          "end_time": "2024-06-06T18:06:09.803786",
          "exception": false,
          "start_time": "2024-06-06T18:06:09.750579",
          "status": "completed"
        },
        "tags": [],
        "id": "8eb9be18"
      },
      "outputs": [],
      "source": [
        "#Veri dosyasını yükle\n",
        "df_train=pd.read_csv(\"/kaggle/input/titanic/train.csv\")\n",
        "df_test=pd.read_csv(\"/kaggle/input/titanic/test.csv\")"
      ]
    },
    {
      "cell_type": "code",
      "execution_count": null,
      "id": "68e882d2",
      "metadata": {
        "execution": {
          "iopub.execute_input": "2024-06-06T18:06:09.837057Z",
          "iopub.status.busy": "2024-06-06T18:06:09.836118Z",
          "iopub.status.idle": "2024-06-06T18:06:09.865267Z",
          "shell.execute_reply": "2024-06-06T18:06:09.864207Z"
        },
        "papermill": {
          "duration": 0.04841,
          "end_time": "2024-06-06T18:06:09.867955",
          "exception": false,
          "start_time": "2024-06-06T18:06:09.819545",
          "status": "completed"
        },
        "tags": [],
        "id": "68e882d2",
        "outputId": "93bac363-3cbb-4c0c-eb51-e4766f9d5919"
      },
      "outputs": [
        {
          "data": {
            "text/html": [
              "<div>\n",
              "<style scoped>\n",
              "    .dataframe tbody tr th:only-of-type {\n",
              "        vertical-align: middle;\n",
              "    }\n",
              "\n",
              "    .dataframe tbody tr th {\n",
              "        vertical-align: top;\n",
              "    }\n",
              "\n",
              "    .dataframe thead th {\n",
              "        text-align: right;\n",
              "    }\n",
              "</style>\n",
              "<table border=\"1\" class=\"dataframe\">\n",
              "  <thead>\n",
              "    <tr style=\"text-align: right;\">\n",
              "      <th></th>\n",
              "      <th>PassengerId</th>\n",
              "      <th>Survived</th>\n",
              "      <th>Pclass</th>\n",
              "      <th>Name</th>\n",
              "      <th>Sex</th>\n",
              "      <th>Age</th>\n",
              "      <th>SibSp</th>\n",
              "      <th>Parch</th>\n",
              "      <th>Ticket</th>\n",
              "      <th>Fare</th>\n",
              "      <th>Cabin</th>\n",
              "      <th>Embarked</th>\n",
              "    </tr>\n",
              "  </thead>\n",
              "  <tbody>\n",
              "    <tr>\n",
              "      <th>0</th>\n",
              "      <td>1</td>\n",
              "      <td>0</td>\n",
              "      <td>3</td>\n",
              "      <td>Braund, Mr. Owen Harris</td>\n",
              "      <td>male</td>\n",
              "      <td>22.0</td>\n",
              "      <td>1</td>\n",
              "      <td>0</td>\n",
              "      <td>A/5 21171</td>\n",
              "      <td>7.2500</td>\n",
              "      <td>NaN</td>\n",
              "      <td>S</td>\n",
              "    </tr>\n",
              "    <tr>\n",
              "      <th>1</th>\n",
              "      <td>2</td>\n",
              "      <td>1</td>\n",
              "      <td>1</td>\n",
              "      <td>Cumings, Mrs. John Bradley (Florence Briggs Th...</td>\n",
              "      <td>female</td>\n",
              "      <td>38.0</td>\n",
              "      <td>1</td>\n",
              "      <td>0</td>\n",
              "      <td>PC 17599</td>\n",
              "      <td>71.2833</td>\n",
              "      <td>C85</td>\n",
              "      <td>C</td>\n",
              "    </tr>\n",
              "    <tr>\n",
              "      <th>2</th>\n",
              "      <td>3</td>\n",
              "      <td>1</td>\n",
              "      <td>3</td>\n",
              "      <td>Heikkinen, Miss. Laina</td>\n",
              "      <td>female</td>\n",
              "      <td>26.0</td>\n",
              "      <td>0</td>\n",
              "      <td>0</td>\n",
              "      <td>STON/O2. 3101282</td>\n",
              "      <td>7.9250</td>\n",
              "      <td>NaN</td>\n",
              "      <td>S</td>\n",
              "    </tr>\n",
              "    <tr>\n",
              "      <th>3</th>\n",
              "      <td>4</td>\n",
              "      <td>1</td>\n",
              "      <td>1</td>\n",
              "      <td>Futrelle, Mrs. Jacques Heath (Lily May Peel)</td>\n",
              "      <td>female</td>\n",
              "      <td>35.0</td>\n",
              "      <td>1</td>\n",
              "      <td>0</td>\n",
              "      <td>113803</td>\n",
              "      <td>53.1000</td>\n",
              "      <td>C123</td>\n",
              "      <td>S</td>\n",
              "    </tr>\n",
              "    <tr>\n",
              "      <th>4</th>\n",
              "      <td>5</td>\n",
              "      <td>0</td>\n",
              "      <td>3</td>\n",
              "      <td>Allen, Mr. William Henry</td>\n",
              "      <td>male</td>\n",
              "      <td>35.0</td>\n",
              "      <td>0</td>\n",
              "      <td>0</td>\n",
              "      <td>373450</td>\n",
              "      <td>8.0500</td>\n",
              "      <td>NaN</td>\n",
              "      <td>S</td>\n",
              "    </tr>\n",
              "  </tbody>\n",
              "</table>\n",
              "</div>"
            ],
            "text/plain": [
              "   PassengerId  Survived  Pclass  \\\n",
              "0            1         0       3   \n",
              "1            2         1       1   \n",
              "2            3         1       3   \n",
              "3            4         1       1   \n",
              "4            5         0       3   \n",
              "\n",
              "                                                Name     Sex   Age  SibSp  \\\n",
              "0                            Braund, Mr. Owen Harris    male  22.0      1   \n",
              "1  Cumings, Mrs. John Bradley (Florence Briggs Th...  female  38.0      1   \n",
              "2                             Heikkinen, Miss. Laina  female  26.0      0   \n",
              "3       Futrelle, Mrs. Jacques Heath (Lily May Peel)  female  35.0      1   \n",
              "4                           Allen, Mr. William Henry    male  35.0      0   \n",
              "\n",
              "   Parch            Ticket     Fare Cabin Embarked  \n",
              "0      0         A/5 21171   7.2500   NaN        S  \n",
              "1      0          PC 17599  71.2833   C85        C  \n",
              "2      0  STON/O2. 3101282   7.9250   NaN        S  \n",
              "3      0            113803  53.1000  C123        S  \n",
              "4      0            373450   8.0500   NaN        S  "
            ]
          },
          "execution_count": 3,
          "metadata": {},
          "output_type": "execute_result"
        }
      ],
      "source": [
        "#Veri ön işleme ve EDA\n",
        "df_train.head()"
      ]
    },
    {
      "cell_type": "code",
      "execution_count": null,
      "id": "eacd6658",
      "metadata": {
        "execution": {
          "iopub.execute_input": "2024-06-06T18:06:09.901678Z",
          "iopub.status.busy": "2024-06-06T18:06:09.901311Z",
          "iopub.status.idle": "2024-06-06T18:06:09.925868Z",
          "shell.execute_reply": "2024-06-06T18:06:09.924148Z"
        },
        "papermill": {
          "duration": 0.044435,
          "end_time": "2024-06-06T18:06:09.928495",
          "exception": false,
          "start_time": "2024-06-06T18:06:09.884060",
          "status": "completed"
        },
        "tags": [],
        "id": "eacd6658",
        "outputId": "f6e0cf89-bdc8-40bb-ea2e-14d3ef54f3f1"
      },
      "outputs": [
        {
          "name": "stdout",
          "output_type": "stream",
          "text": [
            "<class 'pandas.core.frame.DataFrame'>\n",
            "RangeIndex: 891 entries, 0 to 890\n",
            "Data columns (total 12 columns):\n",
            " #   Column       Non-Null Count  Dtype  \n",
            "---  ------       --------------  -----  \n",
            " 0   PassengerId  891 non-null    int64  \n",
            " 1   Survived     891 non-null    int64  \n",
            " 2   Pclass       891 non-null    int64  \n",
            " 3   Name         891 non-null    object \n",
            " 4   Sex          891 non-null    object \n",
            " 5   Age          714 non-null    float64\n",
            " 6   SibSp        891 non-null    int64  \n",
            " 7   Parch        891 non-null    int64  \n",
            " 8   Ticket       891 non-null    object \n",
            " 9   Fare         891 non-null    float64\n",
            " 10  Cabin        204 non-null    object \n",
            " 11  Embarked     889 non-null    object \n",
            "dtypes: float64(2), int64(5), object(5)\n",
            "memory usage: 83.7+ KB\n"
          ]
        }
      ],
      "source": [
        "#veriseti hakkında bilgi\n",
        "df_train.info()"
      ]
    },
    {
      "cell_type": "code",
      "execution_count": null,
      "id": "f956322c",
      "metadata": {
        "execution": {
          "iopub.execute_input": "2024-06-06T18:06:09.963209Z",
          "iopub.status.busy": "2024-06-06T18:06:09.962211Z",
          "iopub.status.idle": "2024-06-06T18:06:09.971674Z",
          "shell.execute_reply": "2024-06-06T18:06:09.970661Z"
        },
        "papermill": {
          "duration": 0.028964,
          "end_time": "2024-06-06T18:06:09.974052",
          "exception": false,
          "start_time": "2024-06-06T18:06:09.945088",
          "status": "completed"
        },
        "tags": [],
        "id": "f956322c",
        "outputId": "83481190-c8b6-4ef1-f86c-08eb18fbc14f"
      },
      "outputs": [
        {
          "data": {
            "text/plain": [
              "PassengerId      0\n",
              "Survived         0\n",
              "Pclass           0\n",
              "Name             0\n",
              "Sex              0\n",
              "Age            177\n",
              "SibSp            0\n",
              "Parch            0\n",
              "Ticket           0\n",
              "Fare             0\n",
              "Cabin          687\n",
              "Embarked         2\n",
              "dtype: int64"
            ]
          },
          "execution_count": 5,
          "metadata": {},
          "output_type": "execute_result"
        }
      ],
      "source": [
        "#eksik veri kontrolü\n",
        "df_train.isnull().sum()"
      ]
    },
    {
      "cell_type": "code",
      "execution_count": null,
      "id": "73d734c0",
      "metadata": {
        "execution": {
          "iopub.execute_input": "2024-06-06T18:06:10.008095Z",
          "iopub.status.busy": "2024-06-06T18:06:10.007285Z",
          "iopub.status.idle": "2024-06-06T18:06:10.042335Z",
          "shell.execute_reply": "2024-06-06T18:06:10.041279Z"
        },
        "papermill": {
          "duration": 0.054798,
          "end_time": "2024-06-06T18:06:10.044861",
          "exception": false,
          "start_time": "2024-06-06T18:06:09.990063",
          "status": "completed"
        },
        "tags": [],
        "id": "73d734c0",
        "outputId": "2a365818-bfcc-4954-f19b-6e1e3f486af4"
      },
      "outputs": [
        {
          "data": {
            "text/html": [
              "<div>\n",
              "<style scoped>\n",
              "    .dataframe tbody tr th:only-of-type {\n",
              "        vertical-align: middle;\n",
              "    }\n",
              "\n",
              "    .dataframe tbody tr th {\n",
              "        vertical-align: top;\n",
              "    }\n",
              "\n",
              "    .dataframe thead th {\n",
              "        text-align: right;\n",
              "    }\n",
              "</style>\n",
              "<table border=\"1\" class=\"dataframe\">\n",
              "  <thead>\n",
              "    <tr style=\"text-align: right;\">\n",
              "      <th></th>\n",
              "      <th>count</th>\n",
              "      <th>mean</th>\n",
              "      <th>std</th>\n",
              "      <th>min</th>\n",
              "      <th>25%</th>\n",
              "      <th>50%</th>\n",
              "      <th>75%</th>\n",
              "      <th>max</th>\n",
              "    </tr>\n",
              "  </thead>\n",
              "  <tbody>\n",
              "    <tr>\n",
              "      <th>PassengerId</th>\n",
              "      <td>891.0</td>\n",
              "      <td>446.000000</td>\n",
              "      <td>257.353842</td>\n",
              "      <td>1.00</td>\n",
              "      <td>223.5000</td>\n",
              "      <td>446.0000</td>\n",
              "      <td>668.5</td>\n",
              "      <td>891.0000</td>\n",
              "    </tr>\n",
              "    <tr>\n",
              "      <th>Survived</th>\n",
              "      <td>891.0</td>\n",
              "      <td>0.383838</td>\n",
              "      <td>0.486592</td>\n",
              "      <td>0.00</td>\n",
              "      <td>0.0000</td>\n",
              "      <td>0.0000</td>\n",
              "      <td>1.0</td>\n",
              "      <td>1.0000</td>\n",
              "    </tr>\n",
              "    <tr>\n",
              "      <th>Pclass</th>\n",
              "      <td>891.0</td>\n",
              "      <td>2.308642</td>\n",
              "      <td>0.836071</td>\n",
              "      <td>1.00</td>\n",
              "      <td>2.0000</td>\n",
              "      <td>3.0000</td>\n",
              "      <td>3.0</td>\n",
              "      <td>3.0000</td>\n",
              "    </tr>\n",
              "    <tr>\n",
              "      <th>Age</th>\n",
              "      <td>714.0</td>\n",
              "      <td>29.699118</td>\n",
              "      <td>14.526497</td>\n",
              "      <td>0.42</td>\n",
              "      <td>20.1250</td>\n",
              "      <td>28.0000</td>\n",
              "      <td>38.0</td>\n",
              "      <td>80.0000</td>\n",
              "    </tr>\n",
              "    <tr>\n",
              "      <th>SibSp</th>\n",
              "      <td>891.0</td>\n",
              "      <td>0.523008</td>\n",
              "      <td>1.102743</td>\n",
              "      <td>0.00</td>\n",
              "      <td>0.0000</td>\n",
              "      <td>0.0000</td>\n",
              "      <td>1.0</td>\n",
              "      <td>8.0000</td>\n",
              "    </tr>\n",
              "    <tr>\n",
              "      <th>Parch</th>\n",
              "      <td>891.0</td>\n",
              "      <td>0.381594</td>\n",
              "      <td>0.806057</td>\n",
              "      <td>0.00</td>\n",
              "      <td>0.0000</td>\n",
              "      <td>0.0000</td>\n",
              "      <td>0.0</td>\n",
              "      <td>6.0000</td>\n",
              "    </tr>\n",
              "    <tr>\n",
              "      <th>Fare</th>\n",
              "      <td>891.0</td>\n",
              "      <td>32.204208</td>\n",
              "      <td>49.693429</td>\n",
              "      <td>0.00</td>\n",
              "      <td>7.9104</td>\n",
              "      <td>14.4542</td>\n",
              "      <td>31.0</td>\n",
              "      <td>512.3292</td>\n",
              "    </tr>\n",
              "  </tbody>\n",
              "</table>\n",
              "</div>"
            ],
            "text/plain": [
              "             count        mean         std   min       25%       50%    75%  \\\n",
              "PassengerId  891.0  446.000000  257.353842  1.00  223.5000  446.0000  668.5   \n",
              "Survived     891.0    0.383838    0.486592  0.00    0.0000    0.0000    1.0   \n",
              "Pclass       891.0    2.308642    0.836071  1.00    2.0000    3.0000    3.0   \n",
              "Age          714.0   29.699118   14.526497  0.42   20.1250   28.0000   38.0   \n",
              "SibSp        891.0    0.523008    1.102743  0.00    0.0000    0.0000    1.0   \n",
              "Parch        891.0    0.381594    0.806057  0.00    0.0000    0.0000    0.0   \n",
              "Fare         891.0   32.204208   49.693429  0.00    7.9104   14.4542   31.0   \n",
              "\n",
              "                  max  \n",
              "PassengerId  891.0000  \n",
              "Survived       1.0000  \n",
              "Pclass         3.0000  \n",
              "Age           80.0000  \n",
              "SibSp          8.0000  \n",
              "Parch          6.0000  \n",
              "Fare         512.3292  "
            ]
          },
          "execution_count": 6,
          "metadata": {},
          "output_type": "execute_result"
        }
      ],
      "source": [
        "df_train.describe().T"
      ]
    },
    {
      "cell_type": "code",
      "execution_count": null,
      "id": "ce46975c",
      "metadata": {
        "execution": {
          "iopub.execute_input": "2024-06-06T18:06:10.079486Z",
          "iopub.status.busy": "2024-06-06T18:06:10.078671Z",
          "iopub.status.idle": "2024-06-06T18:06:10.108208Z",
          "shell.execute_reply": "2024-06-06T18:06:10.107103Z"
        },
        "papermill": {
          "duration": 0.049533,
          "end_time": "2024-06-06T18:06:10.110567",
          "exception": false,
          "start_time": "2024-06-06T18:06:10.061034",
          "status": "completed"
        },
        "tags": [],
        "id": "ce46975c",
        "outputId": "82a58afc-a251-403c-eead-bb2d3b72ed54"
      },
      "outputs": [
        {
          "data": {
            "text/html": [
              "<div>\n",
              "<style scoped>\n",
              "    .dataframe tbody tr th:only-of-type {\n",
              "        vertical-align: middle;\n",
              "    }\n",
              "\n",
              "    .dataframe tbody tr th {\n",
              "        vertical-align: top;\n",
              "    }\n",
              "\n",
              "    .dataframe thead th {\n",
              "        text-align: right;\n",
              "    }\n",
              "</style>\n",
              "<table border=\"1\" class=\"dataframe\">\n",
              "  <thead>\n",
              "    <tr style=\"text-align: right;\">\n",
              "      <th></th>\n",
              "      <th>PassengerId</th>\n",
              "      <th>Survived</th>\n",
              "      <th>Pclass</th>\n",
              "      <th>Name</th>\n",
              "      <th>Sex</th>\n",
              "      <th>Age</th>\n",
              "      <th>SibSp</th>\n",
              "      <th>Parch</th>\n",
              "      <th>Ticket</th>\n",
              "      <th>Fare</th>\n",
              "      <th>Cabin</th>\n",
              "      <th>Embarked</th>\n",
              "    </tr>\n",
              "  </thead>\n",
              "  <tbody>\n",
              "    <tr>\n",
              "      <th>0</th>\n",
              "      <td>1</td>\n",
              "      <td>0.0</td>\n",
              "      <td>3</td>\n",
              "      <td>Braund, Mr. Owen Harris</td>\n",
              "      <td>male</td>\n",
              "      <td>22.0</td>\n",
              "      <td>1</td>\n",
              "      <td>0</td>\n",
              "      <td>A/5 21171</td>\n",
              "      <td>7.2500</td>\n",
              "      <td>NaN</td>\n",
              "      <td>S</td>\n",
              "    </tr>\n",
              "    <tr>\n",
              "      <th>1</th>\n",
              "      <td>2</td>\n",
              "      <td>1.0</td>\n",
              "      <td>1</td>\n",
              "      <td>Cumings, Mrs. John Bradley (Florence Briggs Th...</td>\n",
              "      <td>female</td>\n",
              "      <td>38.0</td>\n",
              "      <td>1</td>\n",
              "      <td>0</td>\n",
              "      <td>PC 17599</td>\n",
              "      <td>71.2833</td>\n",
              "      <td>C85</td>\n",
              "      <td>C</td>\n",
              "    </tr>\n",
              "    <tr>\n",
              "      <th>2</th>\n",
              "      <td>3</td>\n",
              "      <td>1.0</td>\n",
              "      <td>3</td>\n",
              "      <td>Heikkinen, Miss. Laina</td>\n",
              "      <td>female</td>\n",
              "      <td>26.0</td>\n",
              "      <td>0</td>\n",
              "      <td>0</td>\n",
              "      <td>STON/O2. 3101282</td>\n",
              "      <td>7.9250</td>\n",
              "      <td>NaN</td>\n",
              "      <td>S</td>\n",
              "    </tr>\n",
              "    <tr>\n",
              "      <th>3</th>\n",
              "      <td>4</td>\n",
              "      <td>1.0</td>\n",
              "      <td>1</td>\n",
              "      <td>Futrelle, Mrs. Jacques Heath (Lily May Peel)</td>\n",
              "      <td>female</td>\n",
              "      <td>35.0</td>\n",
              "      <td>1</td>\n",
              "      <td>0</td>\n",
              "      <td>113803</td>\n",
              "      <td>53.1000</td>\n",
              "      <td>C123</td>\n",
              "      <td>S</td>\n",
              "    </tr>\n",
              "    <tr>\n",
              "      <th>4</th>\n",
              "      <td>5</td>\n",
              "      <td>0.0</td>\n",
              "      <td>3</td>\n",
              "      <td>Allen, Mr. William Henry</td>\n",
              "      <td>male</td>\n",
              "      <td>35.0</td>\n",
              "      <td>0</td>\n",
              "      <td>0</td>\n",
              "      <td>373450</td>\n",
              "      <td>8.0500</td>\n",
              "      <td>NaN</td>\n",
              "      <td>S</td>\n",
              "    </tr>\n",
              "    <tr>\n",
              "      <th>...</th>\n",
              "      <td>...</td>\n",
              "      <td>...</td>\n",
              "      <td>...</td>\n",
              "      <td>...</td>\n",
              "      <td>...</td>\n",
              "      <td>...</td>\n",
              "      <td>...</td>\n",
              "      <td>...</td>\n",
              "      <td>...</td>\n",
              "      <td>...</td>\n",
              "      <td>...</td>\n",
              "      <td>...</td>\n",
              "    </tr>\n",
              "    <tr>\n",
              "      <th>1304</th>\n",
              "      <td>1305</td>\n",
              "      <td>NaN</td>\n",
              "      <td>3</td>\n",
              "      <td>Spector, Mr. Woolf</td>\n",
              "      <td>male</td>\n",
              "      <td>NaN</td>\n",
              "      <td>0</td>\n",
              "      <td>0</td>\n",
              "      <td>A.5. 3236</td>\n",
              "      <td>8.0500</td>\n",
              "      <td>NaN</td>\n",
              "      <td>S</td>\n",
              "    </tr>\n",
              "    <tr>\n",
              "      <th>1305</th>\n",
              "      <td>1306</td>\n",
              "      <td>NaN</td>\n",
              "      <td>1</td>\n",
              "      <td>Oliva y Ocana, Dona. Fermina</td>\n",
              "      <td>female</td>\n",
              "      <td>39.0</td>\n",
              "      <td>0</td>\n",
              "      <td>0</td>\n",
              "      <td>PC 17758</td>\n",
              "      <td>108.9000</td>\n",
              "      <td>C105</td>\n",
              "      <td>C</td>\n",
              "    </tr>\n",
              "    <tr>\n",
              "      <th>1306</th>\n",
              "      <td>1307</td>\n",
              "      <td>NaN</td>\n",
              "      <td>3</td>\n",
              "      <td>Saether, Mr. Simon Sivertsen</td>\n",
              "      <td>male</td>\n",
              "      <td>38.5</td>\n",
              "      <td>0</td>\n",
              "      <td>0</td>\n",
              "      <td>SOTON/O.Q. 3101262</td>\n",
              "      <td>7.2500</td>\n",
              "      <td>NaN</td>\n",
              "      <td>S</td>\n",
              "    </tr>\n",
              "    <tr>\n",
              "      <th>1307</th>\n",
              "      <td>1308</td>\n",
              "      <td>NaN</td>\n",
              "      <td>3</td>\n",
              "      <td>Ware, Mr. Frederick</td>\n",
              "      <td>male</td>\n",
              "      <td>NaN</td>\n",
              "      <td>0</td>\n",
              "      <td>0</td>\n",
              "      <td>359309</td>\n",
              "      <td>8.0500</td>\n",
              "      <td>NaN</td>\n",
              "      <td>S</td>\n",
              "    </tr>\n",
              "    <tr>\n",
              "      <th>1308</th>\n",
              "      <td>1309</td>\n",
              "      <td>NaN</td>\n",
              "      <td>3</td>\n",
              "      <td>Peter, Master. Michael J</td>\n",
              "      <td>male</td>\n",
              "      <td>NaN</td>\n",
              "      <td>1</td>\n",
              "      <td>1</td>\n",
              "      <td>2668</td>\n",
              "      <td>22.3583</td>\n",
              "      <td>NaN</td>\n",
              "      <td>C</td>\n",
              "    </tr>\n",
              "  </tbody>\n",
              "</table>\n",
              "<p>1309 rows × 12 columns</p>\n",
              "</div>"
            ],
            "text/plain": [
              "      PassengerId  Survived  Pclass  \\\n",
              "0               1       0.0       3   \n",
              "1               2       1.0       1   \n",
              "2               3       1.0       3   \n",
              "3               4       1.0       1   \n",
              "4               5       0.0       3   \n",
              "...           ...       ...     ...   \n",
              "1304         1305       NaN       3   \n",
              "1305         1306       NaN       1   \n",
              "1306         1307       NaN       3   \n",
              "1307         1308       NaN       3   \n",
              "1308         1309       NaN       3   \n",
              "\n",
              "                                                   Name     Sex   Age  SibSp  \\\n",
              "0                               Braund, Mr. Owen Harris    male  22.0      1   \n",
              "1     Cumings, Mrs. John Bradley (Florence Briggs Th...  female  38.0      1   \n",
              "2                                Heikkinen, Miss. Laina  female  26.0      0   \n",
              "3          Futrelle, Mrs. Jacques Heath (Lily May Peel)  female  35.0      1   \n",
              "4                              Allen, Mr. William Henry    male  35.0      0   \n",
              "...                                                 ...     ...   ...    ...   \n",
              "1304                                 Spector, Mr. Woolf    male   NaN      0   \n",
              "1305                       Oliva y Ocana, Dona. Fermina  female  39.0      0   \n",
              "1306                       Saether, Mr. Simon Sivertsen    male  38.5      0   \n",
              "1307                                Ware, Mr. Frederick    male   NaN      0   \n",
              "1308                           Peter, Master. Michael J    male   NaN      1   \n",
              "\n",
              "      Parch              Ticket      Fare Cabin Embarked  \n",
              "0         0           A/5 21171    7.2500   NaN        S  \n",
              "1         0            PC 17599   71.2833   C85        C  \n",
              "2         0    STON/O2. 3101282    7.9250   NaN        S  \n",
              "3         0              113803   53.1000  C123        S  \n",
              "4         0              373450    8.0500   NaN        S  \n",
              "...     ...                 ...       ...   ...      ...  \n",
              "1304      0           A.5. 3236    8.0500   NaN        S  \n",
              "1305      0            PC 17758  108.9000  C105        C  \n",
              "1306      0  SOTON/O.Q. 3101262    7.2500   NaN        S  \n",
              "1307      0              359309    8.0500   NaN        S  \n",
              "1308      1                2668   22.3583   NaN        C  \n",
              "\n",
              "[1309 rows x 12 columns]"
            ]
          },
          "execution_count": 7,
          "metadata": {},
          "output_type": "execute_result"
        }
      ],
      "source": [
        "#veri ön işleme işlemleri yapılacağı için test ve train birleştirilir\n",
        "df=pd.concat([df_train,df_test],ignore_index=True)\n",
        "df"
      ]
    },
    {
      "cell_type": "code",
      "execution_count": null,
      "id": "d0fef40a",
      "metadata": {
        "execution": {
          "iopub.execute_input": "2024-06-06T18:06:10.146050Z",
          "iopub.status.busy": "2024-06-06T18:06:10.145366Z",
          "iopub.status.idle": "2024-06-06T18:06:10.152573Z",
          "shell.execute_reply": "2024-06-06T18:06:10.151551Z"
        },
        "papermill": {
          "duration": 0.027457,
          "end_time": "2024-06-06T18:06:10.154731",
          "exception": false,
          "start_time": "2024-06-06T18:06:10.127274",
          "status": "completed"
        },
        "tags": [],
        "id": "d0fef40a",
        "outputId": "efd9456f-6d84-4e24-e7e8-8899123c12f2"
      },
      "outputs": [
        {
          "data": {
            "text/plain": [
              "((891, 12), (418, 11), (1309, 12))"
            ]
          },
          "execution_count": 8,
          "metadata": {},
          "output_type": "execute_result"
        }
      ],
      "source": [
        "#satır sütun sayısı\n",
        "df_train.shape,df_test.shape,df.shape #ilk 891 i train, son 418 i test"
      ]
    },
    {
      "cell_type": "code",
      "execution_count": null,
      "id": "ca29a95c",
      "metadata": {
        "execution": {
          "iopub.execute_input": "2024-06-06T18:06:10.190961Z",
          "iopub.status.busy": "2024-06-06T18:06:10.190577Z",
          "iopub.status.idle": "2024-06-06T18:06:10.209308Z",
          "shell.execute_reply": "2024-06-06T18:06:10.208089Z"
        },
        "papermill": {
          "duration": 0.039944,
          "end_time": "2024-06-06T18:06:10.211653",
          "exception": false,
          "start_time": "2024-06-06T18:06:10.171709",
          "status": "completed"
        },
        "tags": [],
        "id": "ca29a95c",
        "outputId": "784c5b4c-87d7-420b-c331-5ccd584f02ac"
      },
      "outputs": [
        {
          "data": {
            "text/html": [
              "<div>\n",
              "<style scoped>\n",
              "    .dataframe tbody tr th:only-of-type {\n",
              "        vertical-align: middle;\n",
              "    }\n",
              "\n",
              "    .dataframe tbody tr th {\n",
              "        vertical-align: top;\n",
              "    }\n",
              "\n",
              "    .dataframe thead th {\n",
              "        text-align: right;\n",
              "    }\n",
              "</style>\n",
              "<table border=\"1\" class=\"dataframe\">\n",
              "  <thead>\n",
              "    <tr style=\"text-align: right;\">\n",
              "      <th></th>\n",
              "      <th>PassengerId</th>\n",
              "      <th>Survived</th>\n",
              "      <th>Pclass</th>\n",
              "      <th>Name</th>\n",
              "      <th>Sex</th>\n",
              "      <th>Age</th>\n",
              "      <th>SibSp</th>\n",
              "      <th>Parch</th>\n",
              "      <th>Ticket</th>\n",
              "      <th>Fare</th>\n",
              "      <th>Cabin</th>\n",
              "      <th>Embarked</th>\n",
              "    </tr>\n",
              "  </thead>\n",
              "  <tbody>\n",
              "    <tr>\n",
              "      <th>0</th>\n",
              "      <td>1</td>\n",
              "      <td>0.0</td>\n",
              "      <td>3</td>\n",
              "      <td>Braund, Mr. Owen Harris</td>\n",
              "      <td>male</td>\n",
              "      <td>22.0</td>\n",
              "      <td>1</td>\n",
              "      <td>0</td>\n",
              "      <td>A/5 21171</td>\n",
              "      <td>7.2500</td>\n",
              "      <td>NaN</td>\n",
              "      <td>S</td>\n",
              "    </tr>\n",
              "    <tr>\n",
              "      <th>1</th>\n",
              "      <td>2</td>\n",
              "      <td>1.0</td>\n",
              "      <td>1</td>\n",
              "      <td>Cumings, Mrs. John Bradley (Florence Briggs Th...</td>\n",
              "      <td>female</td>\n",
              "      <td>38.0</td>\n",
              "      <td>1</td>\n",
              "      <td>0</td>\n",
              "      <td>PC 17599</td>\n",
              "      <td>71.2833</td>\n",
              "      <td>C85</td>\n",
              "      <td>C</td>\n",
              "    </tr>\n",
              "    <tr>\n",
              "      <th>2</th>\n",
              "      <td>3</td>\n",
              "      <td>1.0</td>\n",
              "      <td>3</td>\n",
              "      <td>Heikkinen, Miss. Laina</td>\n",
              "      <td>female</td>\n",
              "      <td>26.0</td>\n",
              "      <td>0</td>\n",
              "      <td>0</td>\n",
              "      <td>STON/O2. 3101282</td>\n",
              "      <td>7.9250</td>\n",
              "      <td>NaN</td>\n",
              "      <td>S</td>\n",
              "    </tr>\n",
              "    <tr>\n",
              "      <th>3</th>\n",
              "      <td>4</td>\n",
              "      <td>1.0</td>\n",
              "      <td>1</td>\n",
              "      <td>Futrelle, Mrs. Jacques Heath (Lily May Peel)</td>\n",
              "      <td>female</td>\n",
              "      <td>35.0</td>\n",
              "      <td>1</td>\n",
              "      <td>0</td>\n",
              "      <td>113803</td>\n",
              "      <td>53.1000</td>\n",
              "      <td>C123</td>\n",
              "      <td>S</td>\n",
              "    </tr>\n",
              "    <tr>\n",
              "      <th>4</th>\n",
              "      <td>5</td>\n",
              "      <td>0.0</td>\n",
              "      <td>3</td>\n",
              "      <td>Allen, Mr. William Henry</td>\n",
              "      <td>male</td>\n",
              "      <td>35.0</td>\n",
              "      <td>0</td>\n",
              "      <td>0</td>\n",
              "      <td>373450</td>\n",
              "      <td>8.0500</td>\n",
              "      <td>NaN</td>\n",
              "      <td>S</td>\n",
              "    </tr>\n",
              "  </tbody>\n",
              "</table>\n",
              "</div>"
            ],
            "text/plain": [
              "   PassengerId  Survived  Pclass  \\\n",
              "0            1       0.0       3   \n",
              "1            2       1.0       1   \n",
              "2            3       1.0       3   \n",
              "3            4       1.0       1   \n",
              "4            5       0.0       3   \n",
              "\n",
              "                                                Name     Sex   Age  SibSp  \\\n",
              "0                            Braund, Mr. Owen Harris    male  22.0      1   \n",
              "1  Cumings, Mrs. John Bradley (Florence Briggs Th...  female  38.0      1   \n",
              "2                             Heikkinen, Miss. Laina  female  26.0      0   \n",
              "3       Futrelle, Mrs. Jacques Heath (Lily May Peel)  female  35.0      1   \n",
              "4                           Allen, Mr. William Henry    male  35.0      0   \n",
              "\n",
              "   Parch            Ticket     Fare Cabin Embarked  \n",
              "0      0         A/5 21171   7.2500   NaN        S  \n",
              "1      0          PC 17599  71.2833   C85        C  \n",
              "2      0  STON/O2. 3101282   7.9250   NaN        S  \n",
              "3      0            113803  53.1000  C123        S  \n",
              "4      0            373450   8.0500   NaN        S  "
            ]
          },
          "execution_count": 9,
          "metadata": {},
          "output_type": "execute_result"
        }
      ],
      "source": [
        "df.head()"
      ]
    },
    {
      "cell_type": "code",
      "execution_count": null,
      "id": "dc86a142",
      "metadata": {
        "collapsed": true,
        "execution": {
          "iopub.execute_input": "2024-06-06T18:06:10.248128Z",
          "iopub.status.busy": "2024-06-06T18:06:10.247764Z",
          "iopub.status.idle": "2024-06-06T18:06:10.267460Z",
          "shell.execute_reply": "2024-06-06T18:06:10.266462Z"
        },
        "jupyter": {
          "outputs_hidden": true
        },
        "papermill": {
          "duration": 0.04121,
          "end_time": "2024-06-06T18:06:10.270043",
          "exception": false,
          "start_time": "2024-06-06T18:06:10.228833",
          "status": "completed"
        },
        "tags": [],
        "id": "dc86a142",
        "outputId": "469a9943-ecc7-461c-d3d6-37f5376a2679"
      },
      "outputs": [
        {
          "data": {
            "text/html": [
              "<div>\n",
              "<style scoped>\n",
              "    .dataframe tbody tr th:only-of-type {\n",
              "        vertical-align: middle;\n",
              "    }\n",
              "\n",
              "    .dataframe tbody tr th {\n",
              "        vertical-align: top;\n",
              "    }\n",
              "\n",
              "    .dataframe thead th {\n",
              "        text-align: right;\n",
              "    }\n",
              "</style>\n",
              "<table border=\"1\" class=\"dataframe\">\n",
              "  <thead>\n",
              "    <tr style=\"text-align: right;\">\n",
              "      <th></th>\n",
              "      <th>PassengerId</th>\n",
              "      <th>Survived</th>\n",
              "      <th>Pclass</th>\n",
              "      <th>Age</th>\n",
              "      <th>SibSp</th>\n",
              "      <th>Parch</th>\n",
              "      <th>Fare</th>\n",
              "    </tr>\n",
              "  </thead>\n",
              "  <tbody>\n",
              "    <tr>\n",
              "      <th>0</th>\n",
              "      <td>1</td>\n",
              "      <td>0.0</td>\n",
              "      <td>3</td>\n",
              "      <td>22.0</td>\n",
              "      <td>1</td>\n",
              "      <td>0</td>\n",
              "      <td>7.2500</td>\n",
              "    </tr>\n",
              "    <tr>\n",
              "      <th>1</th>\n",
              "      <td>2</td>\n",
              "      <td>1.0</td>\n",
              "      <td>1</td>\n",
              "      <td>38.0</td>\n",
              "      <td>1</td>\n",
              "      <td>0</td>\n",
              "      <td>71.2833</td>\n",
              "    </tr>\n",
              "    <tr>\n",
              "      <th>2</th>\n",
              "      <td>3</td>\n",
              "      <td>1.0</td>\n",
              "      <td>3</td>\n",
              "      <td>26.0</td>\n",
              "      <td>0</td>\n",
              "      <td>0</td>\n",
              "      <td>7.9250</td>\n",
              "    </tr>\n",
              "    <tr>\n",
              "      <th>3</th>\n",
              "      <td>4</td>\n",
              "      <td>1.0</td>\n",
              "      <td>1</td>\n",
              "      <td>35.0</td>\n",
              "      <td>1</td>\n",
              "      <td>0</td>\n",
              "      <td>53.1000</td>\n",
              "    </tr>\n",
              "    <tr>\n",
              "      <th>4</th>\n",
              "      <td>5</td>\n",
              "      <td>0.0</td>\n",
              "      <td>3</td>\n",
              "      <td>35.0</td>\n",
              "      <td>0</td>\n",
              "      <td>0</td>\n",
              "      <td>8.0500</td>\n",
              "    </tr>\n",
              "    <tr>\n",
              "      <th>...</th>\n",
              "      <td>...</td>\n",
              "      <td>...</td>\n",
              "      <td>...</td>\n",
              "      <td>...</td>\n",
              "      <td>...</td>\n",
              "      <td>...</td>\n",
              "      <td>...</td>\n",
              "    </tr>\n",
              "    <tr>\n",
              "      <th>1304</th>\n",
              "      <td>1305</td>\n",
              "      <td>NaN</td>\n",
              "      <td>3</td>\n",
              "      <td>NaN</td>\n",
              "      <td>0</td>\n",
              "      <td>0</td>\n",
              "      <td>8.0500</td>\n",
              "    </tr>\n",
              "    <tr>\n",
              "      <th>1305</th>\n",
              "      <td>1306</td>\n",
              "      <td>NaN</td>\n",
              "      <td>1</td>\n",
              "      <td>39.0</td>\n",
              "      <td>0</td>\n",
              "      <td>0</td>\n",
              "      <td>108.9000</td>\n",
              "    </tr>\n",
              "    <tr>\n",
              "      <th>1306</th>\n",
              "      <td>1307</td>\n",
              "      <td>NaN</td>\n",
              "      <td>3</td>\n",
              "      <td>38.5</td>\n",
              "      <td>0</td>\n",
              "      <td>0</td>\n",
              "      <td>7.2500</td>\n",
              "    </tr>\n",
              "    <tr>\n",
              "      <th>1307</th>\n",
              "      <td>1308</td>\n",
              "      <td>NaN</td>\n",
              "      <td>3</td>\n",
              "      <td>NaN</td>\n",
              "      <td>0</td>\n",
              "      <td>0</td>\n",
              "      <td>8.0500</td>\n",
              "    </tr>\n",
              "    <tr>\n",
              "      <th>1308</th>\n",
              "      <td>1309</td>\n",
              "      <td>NaN</td>\n",
              "      <td>3</td>\n",
              "      <td>NaN</td>\n",
              "      <td>1</td>\n",
              "      <td>1</td>\n",
              "      <td>22.3583</td>\n",
              "    </tr>\n",
              "  </tbody>\n",
              "</table>\n",
              "<p>1309 rows × 7 columns</p>\n",
              "</div>"
            ],
            "text/plain": [
              "      PassengerId  Survived  Pclass   Age  SibSp  Parch      Fare\n",
              "0               1       0.0       3  22.0      1      0    7.2500\n",
              "1               2       1.0       1  38.0      1      0   71.2833\n",
              "2               3       1.0       3  26.0      0      0    7.9250\n",
              "3               4       1.0       1  35.0      1      0   53.1000\n",
              "4               5       0.0       3  35.0      0      0    8.0500\n",
              "...           ...       ...     ...   ...    ...    ...       ...\n",
              "1304         1305       NaN       3   NaN      0      0    8.0500\n",
              "1305         1306       NaN       1  39.0      0      0  108.9000\n",
              "1306         1307       NaN       3  38.5      0      0    7.2500\n",
              "1307         1308       NaN       3   NaN      0      0    8.0500\n",
              "1308         1309       NaN       3   NaN      1      1   22.3583\n",
              "\n",
              "[1309 rows x 7 columns]"
            ]
          },
          "execution_count": 10,
          "metadata": {},
          "output_type": "execute_result"
        }
      ],
      "source": [
        "#numeric özellikler\n",
        "numeric_columns=df.select_dtypes(include=['number'])\n",
        "numeric_columns"
      ]
    },
    {
      "cell_type": "code",
      "execution_count": null,
      "id": "78af018f",
      "metadata": {
        "execution": {
          "iopub.execute_input": "2024-06-06T18:06:10.307685Z",
          "iopub.status.busy": "2024-06-06T18:06:10.306870Z",
          "iopub.status.idle": "2024-06-06T18:06:10.324397Z",
          "shell.execute_reply": "2024-06-06T18:06:10.323373Z"
        },
        "papermill": {
          "duration": 0.039059,
          "end_time": "2024-06-06T18:06:10.326852",
          "exception": false,
          "start_time": "2024-06-06T18:06:10.287793",
          "status": "completed"
        },
        "tags": [],
        "id": "78af018f",
        "outputId": "1fbe132d-6860-44f0-faef-e348702eb691"
      },
      "outputs": [
        {
          "data": {
            "text/html": [
              "<div>\n",
              "<style scoped>\n",
              "    .dataframe tbody tr th:only-of-type {\n",
              "        vertical-align: middle;\n",
              "    }\n",
              "\n",
              "    .dataframe tbody tr th {\n",
              "        vertical-align: top;\n",
              "    }\n",
              "\n",
              "    .dataframe thead th {\n",
              "        text-align: right;\n",
              "    }\n",
              "</style>\n",
              "<table border=\"1\" class=\"dataframe\">\n",
              "  <thead>\n",
              "    <tr style=\"text-align: right;\">\n",
              "      <th></th>\n",
              "      <th>PassengerId</th>\n",
              "      <th>Survived</th>\n",
              "      <th>Pclass</th>\n",
              "      <th>Age</th>\n",
              "      <th>SibSp</th>\n",
              "      <th>Parch</th>\n",
              "      <th>Fare</th>\n",
              "    </tr>\n",
              "  </thead>\n",
              "  <tbody>\n",
              "    <tr>\n",
              "      <th>PassengerId</th>\n",
              "      <td>1.000000</td>\n",
              "      <td>-0.005007</td>\n",
              "      <td>-0.038354</td>\n",
              "      <td>0.028814</td>\n",
              "      <td>-0.055224</td>\n",
              "      <td>0.008942</td>\n",
              "      <td>0.031428</td>\n",
              "    </tr>\n",
              "    <tr>\n",
              "      <th>Survived</th>\n",
              "      <td>-0.005007</td>\n",
              "      <td>1.000000</td>\n",
              "      <td>-0.338481</td>\n",
              "      <td>-0.077221</td>\n",
              "      <td>-0.035322</td>\n",
              "      <td>0.081629</td>\n",
              "      <td>0.257307</td>\n",
              "    </tr>\n",
              "    <tr>\n",
              "      <th>Pclass</th>\n",
              "      <td>-0.038354</td>\n",
              "      <td>-0.338481</td>\n",
              "      <td>1.000000</td>\n",
              "      <td>-0.408106</td>\n",
              "      <td>0.060832</td>\n",
              "      <td>0.018322</td>\n",
              "      <td>-0.558629</td>\n",
              "    </tr>\n",
              "    <tr>\n",
              "      <th>Age</th>\n",
              "      <td>0.028814</td>\n",
              "      <td>-0.077221</td>\n",
              "      <td>-0.408106</td>\n",
              "      <td>1.000000</td>\n",
              "      <td>-0.243699</td>\n",
              "      <td>-0.150917</td>\n",
              "      <td>0.178740</td>\n",
              "    </tr>\n",
              "    <tr>\n",
              "      <th>SibSp</th>\n",
              "      <td>-0.055224</td>\n",
              "      <td>-0.035322</td>\n",
              "      <td>0.060832</td>\n",
              "      <td>-0.243699</td>\n",
              "      <td>1.000000</td>\n",
              "      <td>0.373587</td>\n",
              "      <td>0.160238</td>\n",
              "    </tr>\n",
              "    <tr>\n",
              "      <th>Parch</th>\n",
              "      <td>0.008942</td>\n",
              "      <td>0.081629</td>\n",
              "      <td>0.018322</td>\n",
              "      <td>-0.150917</td>\n",
              "      <td>0.373587</td>\n",
              "      <td>1.000000</td>\n",
              "      <td>0.221539</td>\n",
              "    </tr>\n",
              "    <tr>\n",
              "      <th>Fare</th>\n",
              "      <td>0.031428</td>\n",
              "      <td>0.257307</td>\n",
              "      <td>-0.558629</td>\n",
              "      <td>0.178740</td>\n",
              "      <td>0.160238</td>\n",
              "      <td>0.221539</td>\n",
              "      <td>1.000000</td>\n",
              "    </tr>\n",
              "  </tbody>\n",
              "</table>\n",
              "</div>"
            ],
            "text/plain": [
              "             PassengerId  Survived    Pclass       Age     SibSp     Parch  \\\n",
              "PassengerId     1.000000 -0.005007 -0.038354  0.028814 -0.055224  0.008942   \n",
              "Survived       -0.005007  1.000000 -0.338481 -0.077221 -0.035322  0.081629   \n",
              "Pclass         -0.038354 -0.338481  1.000000 -0.408106  0.060832  0.018322   \n",
              "Age             0.028814 -0.077221 -0.408106  1.000000 -0.243699 -0.150917   \n",
              "SibSp          -0.055224 -0.035322  0.060832 -0.243699  1.000000  0.373587   \n",
              "Parch           0.008942  0.081629  0.018322 -0.150917  0.373587  1.000000   \n",
              "Fare            0.031428  0.257307 -0.558629  0.178740  0.160238  0.221539   \n",
              "\n",
              "                 Fare  \n",
              "PassengerId  0.031428  \n",
              "Survived     0.257307  \n",
              "Pclass      -0.558629  \n",
              "Age          0.178740  \n",
              "SibSp        0.160238  \n",
              "Parch        0.221539  \n",
              "Fare         1.000000  "
            ]
          },
          "execution_count": 11,
          "metadata": {},
          "output_type": "execute_result"
        }
      ],
      "source": [
        "# Her çalışmada anlamlı çıkacak diye bir kural\n",
        "numeric_columns.corr()"
      ]
    },
    {
      "cell_type": "markdown",
      "id": "9b4c235c",
      "metadata": {
        "papermill": {
          "duration": 0.017839,
          "end_time": "2024-06-06T18:06:10.362665",
          "exception": false,
          "start_time": "2024-06-06T18:06:10.344826",
          "status": "completed"
        },
        "tags": [],
        "id": "9b4c235c"
      },
      "source": [
        "![image.png](attachment:0db441fb-2ca6-45a3-a777-f18442debaee.png)"
      ]
    },
    {
      "cell_type": "code",
      "execution_count": null,
      "id": "166db9b9",
      "metadata": {
        "execution": {
          "iopub.execute_input": "2024-06-06T18:06:10.400598Z",
          "iopub.status.busy": "2024-06-06T18:06:10.400180Z",
          "iopub.status.idle": "2024-06-06T18:06:10.753616Z",
          "shell.execute_reply": "2024-06-06T18:06:10.752308Z"
        },
        "papermill": {
          "duration": 0.375174,
          "end_time": "2024-06-06T18:06:10.756206",
          "exception": false,
          "start_time": "2024-06-06T18:06:10.381032",
          "status": "completed"
        },
        "tags": [],
        "id": "166db9b9",
        "outputId": "7df085ba-c08d-4d22-f72c-3d702e304eca"
      },
      "outputs": [
        {
          "data": {
            "text/plain": [
              "<Axes: xlabel='Pclass', ylabel='count'>"
            ]
          },
          "execution_count": 12,
          "metadata": {},
          "output_type": "execute_result"
        },
        {
          "data": {
            "image/png": "[encoded data removed]",
            "text/plain": [
              "<Figure size 640x480 with 1 Axes>"
            ]
          },
          "metadata": {},
          "output_type": "display_data"
        }
      ],
      "source": [
        "sns.countplot(x=\"Pclass\", hue=\"Survived\",data=df_train)"
      ]
    },
    {
      "cell_type": "code",
      "execution_count": null,
      "id": "465b2713",
      "metadata": {
        "execution": {
          "iopub.execute_input": "2024-06-06T18:06:10.795764Z",
          "iopub.status.busy": "2024-06-06T18:06:10.795360Z",
          "iopub.status.idle": "2024-06-06T18:06:11.040481Z",
          "shell.execute_reply": "2024-06-06T18:06:11.039102Z"
        },
        "papermill": {
          "duration": 0.268014,
          "end_time": "2024-06-06T18:06:11.043326",
          "exception": false,
          "start_time": "2024-06-06T18:06:10.775312",
          "status": "completed"
        },
        "tags": [],
        "id": "465b2713",
        "outputId": "e1f93aec-4be5-480c-8d29-a2d6818a1cc3"
      },
      "outputs": [
        {
          "data": {
            "text/plain": [
              "<Axes: xlabel='Survived', ylabel='count'>"
            ]
          },
          "execution_count": 13,
          "metadata": {},
          "output_type": "execute_result"
        },
        {
          "data": {
            "image/png": "[encoded data removed]",
            "text/plain": [
              "<Figure size 640x480 with 1 Axes>"
            ]
          },
          "metadata": {},
          "output_type": "display_data"
        }
      ],
      "source": [
        "sns.countplot(x=\"Survived\", hue=\"Pclass\",data=df_train)"
      ]
    },
    {
      "cell_type": "code",
      "execution_count": null,
      "id": "6b779f57",
      "metadata": {
        "execution": {
          "iopub.execute_input": "2024-06-06T18:06:11.083976Z",
          "iopub.status.busy": "2024-06-06T18:06:11.083120Z",
          "iopub.status.idle": "2024-06-06T18:06:11.091581Z",
          "shell.execute_reply": "2024-06-06T18:06:11.090502Z"
        },
        "papermill": {
          "duration": 0.031805,
          "end_time": "2024-06-06T18:06:11.094541",
          "exception": false,
          "start_time": "2024-06-06T18:06:11.062736",
          "status": "completed"
        },
        "tags": [],
        "id": "6b779f57",
        "outputId": "171e9490-3e3b-43e8-f404-678e266af304"
      },
      "outputs": [
        {
          "data": {
            "text/plain": [
              "0                              Braund, Mr. Owen Harris\n",
              "1    Cumings, Mrs. John Bradley (Florence Briggs Th...\n",
              "2                               Heikkinen, Miss. Laina\n",
              "3         Futrelle, Mrs. Jacques Heath (Lily May Peel)\n",
              "4                             Allen, Mr. William Henry\n",
              "Name: Name, dtype: object"
            ]
          },
          "execution_count": 14,
          "metadata": {},
          "output_type": "execute_result"
        }
      ],
      "source": [
        "#Name sütunu\n",
        "df['Name'].head()"
      ]
    },
    {
      "cell_type": "code",
      "execution_count": null,
      "id": "c9fd9678",
      "metadata": {
        "execution": {
          "iopub.execute_input": "2024-06-06T18:06:11.134577Z",
          "iopub.status.busy": "2024-06-06T18:06:11.134161Z",
          "iopub.status.idle": "2024-06-06T18:06:11.147353Z",
          "shell.execute_reply": "2024-06-06T18:06:11.146213Z"
        },
        "papermill": {
          "duration": 0.036074,
          "end_time": "2024-06-06T18:06:11.149726",
          "exception": false,
          "start_time": "2024-06-06T18:06:11.113652",
          "status": "completed"
        },
        "tags": [],
        "id": "c9fd9678"
      },
      "outputs": [],
      "source": [
        "#Unvanları alalım\n",
        "df['Title']=df['Name'].str.extract('([A-Za-z]+)\\.')"
      ]
    },
    {
      "cell_type": "code",
      "execution_count": null,
      "id": "33d9a32d",
      "metadata": {
        "execution": {
          "iopub.execute_input": "2024-06-06T18:06:11.189662Z",
          "iopub.status.busy": "2024-06-06T18:06:11.189281Z",
          "iopub.status.idle": "2024-06-06T18:06:11.199029Z",
          "shell.execute_reply": "2024-06-06T18:06:11.197910Z"
        },
        "papermill": {
          "duration": 0.032751,
          "end_time": "2024-06-06T18:06:11.201592",
          "exception": false,
          "start_time": "2024-06-06T18:06:11.168841",
          "status": "completed"
        },
        "tags": [],
        "id": "33d9a32d",
        "outputId": "d97fdf57-df06-4860-ab46-b9cba3f9f5a1"
      },
      "outputs": [
        {
          "data": {
            "text/plain": [
              "Title\n",
              "Mr          757\n",
              "Miss        260\n",
              "Mrs         197\n",
              "Master       61\n",
              "Rev           8\n",
              "Dr            8\n",
              "Col           4\n",
              "Mlle          2\n",
              "Major         2\n",
              "Ms            2\n",
              "Lady          1\n",
              "Sir           1\n",
              "Mme           1\n",
              "Don           1\n",
              "Capt          1\n",
              "Countess      1\n",
              "Jonkheer      1\n",
              "Dona          1\n",
              "Name: count, dtype: int64"
            ]
          },
          "execution_count": 16,
          "metadata": {},
          "output_type": "execute_result"
        }
      ],
      "source": [
        "#hangi unvanlar var\n",
        "df['Title'].value_counts()"
      ]
    },
    {
      "cell_type": "code",
      "execution_count": null,
      "id": "e6bdeca4",
      "metadata": {
        "execution": {
          "iopub.execute_input": "2024-06-06T18:06:11.243256Z",
          "iopub.status.busy": "2024-06-06T18:06:11.242317Z",
          "iopub.status.idle": "2024-06-06T18:06:11.254684Z",
          "shell.execute_reply": "2024-06-06T18:06:11.253617Z"
        },
        "papermill": {
          "duration": 0.036353,
          "end_time": "2024-06-06T18:06:11.257555",
          "exception": false,
          "start_time": "2024-06-06T18:06:11.221202",
          "status": "completed"
        },
        "tags": [],
        "id": "e6bdeca4"
      },
      "outputs": [],
      "source": [
        "#Fransızca veya diğer dillerdeki ünvanları uygn şekilde çevirdik\n",
        "df['Title']=df['Title'].replace(['Ms','Mlle'],'Miss')\n",
        "df['Title']=df['Title'].replace(['Mme','Countess','Lady','Dona'],'Mrs')\n",
        "df['Title']=df['Title'].replace(['Capt','Col','Don','Dr','Major','Rev','Sir','Jonkheer'],'Mr')"
      ]
    },
    {
      "cell_type": "code",
      "execution_count": null,
      "id": "4e2b2ca3",
      "metadata": {
        "execution": {
          "iopub.execute_input": "2024-06-06T18:06:11.299469Z",
          "iopub.status.busy": "2024-06-06T18:06:11.298534Z",
          "iopub.status.idle": "2024-06-06T18:06:11.307662Z",
          "shell.execute_reply": "2024-06-06T18:06:11.306627Z"
        },
        "papermill": {
          "duration": 0.03261,
          "end_time": "2024-06-06T18:06:11.310302",
          "exception": false,
          "start_time": "2024-06-06T18:06:11.277692",
          "status": "completed"
        },
        "tags": [],
        "id": "4e2b2ca3",
        "outputId": "77dcfa18-9333-404b-c7d2-6d9537dda727"
      },
      "outputs": [
        {
          "data": {
            "text/plain": [
              "Title\n",
              "Mr        783\n",
              "Miss      264\n",
              "Mrs       201\n",
              "Master     61\n",
              "Name: count, dtype: int64"
            ]
          },
          "execution_count": 18,
          "metadata": {},
          "output_type": "execute_result"
        }
      ],
      "source": [
        "df['Title'].value_counts()"
      ]
    },
    {
      "cell_type": "code",
      "execution_count": null,
      "id": "280a278c",
      "metadata": {
        "execution": {
          "iopub.execute_input": "2024-06-06T18:06:11.351018Z",
          "iopub.status.busy": "2024-06-06T18:06:11.350656Z",
          "iopub.status.idle": "2024-06-06T18:06:11.360592Z",
          "shell.execute_reply": "2024-06-06T18:06:11.359483Z"
        },
        "papermill": {
          "duration": 0.033216,
          "end_time": "2024-06-06T18:06:11.363022",
          "exception": false,
          "start_time": "2024-06-06T18:06:11.329806",
          "status": "completed"
        },
        "tags": [],
        "id": "280a278c",
        "outputId": "7c49fc3b-5598-4d5c-a0ee-ad4ba2a1feba"
      },
      "outputs": [
        {
          "data": {
            "text/plain": [
              "0"
            ]
          },
          "execution_count": 19,
          "metadata": {},
          "output_type": "execute_result"
        }
      ],
      "source": [
        "#Embarked ekiks veiryi doldur\n",
        "#en çok tekrar eden değeri kullan\n",
        "df['Embarked'].fillna(df['Embarked'].mode()[0],inplace=True) #df['Embarked'].mode()[0] birden fazla mod olabilir o yüzden ilkini al\n",
        "df['Embarked'].isnull().sum()"
      ]
    },
    {
      "cell_type": "code",
      "execution_count": null,
      "id": "308eebf1",
      "metadata": {
        "execution": {
          "iopub.execute_input": "2024-06-06T18:06:11.404462Z",
          "iopub.status.busy": "2024-06-06T18:06:11.404050Z",
          "iopub.status.idle": "2024-06-06T18:06:11.411697Z",
          "shell.execute_reply": "2024-06-06T18:06:11.410668Z"
        },
        "papermill": {
          "duration": 0.031092,
          "end_time": "2024-06-06T18:06:11.414017",
          "exception": false,
          "start_time": "2024-06-06T18:06:11.382925",
          "status": "completed"
        },
        "tags": [],
        "id": "308eebf1",
        "outputId": "4749146a-cb7b-49e7-ff22-349be00e9399"
      },
      "outputs": [
        {
          "data": {
            "text/plain": [
              "263"
            ]
          },
          "execution_count": 20,
          "metadata": {},
          "output_type": "execute_result"
        }
      ],
      "source": [
        "df['Age'].isnull().sum()"
      ]
    },
    {
      "cell_type": "code",
      "execution_count": null,
      "id": "d3740546",
      "metadata": {
        "execution": {
          "iopub.execute_input": "2024-06-06T18:06:11.455619Z",
          "iopub.status.busy": "2024-06-06T18:06:11.454864Z",
          "iopub.status.idle": "2024-06-06T18:06:11.467079Z",
          "shell.execute_reply": "2024-06-06T18:06:11.465994Z"
        },
        "papermill": {
          "duration": 0.035927,
          "end_time": "2024-06-06T18:06:11.469583",
          "exception": false,
          "start_time": "2024-06-06T18:06:11.433656",
          "status": "completed"
        },
        "tags": [],
        "id": "d3740546",
        "outputId": "edddfcc3-5eae-49da-9a69-1b7c79337e41"
      },
      "outputs": [
        {
          "data": {
            "text/plain": [
              "0"
            ]
          },
          "execution_count": 21,
          "metadata": {},
          "output_type": "execute_result"
        }
      ],
      "source": [
        "#Yaş değerlerini doldur\n",
        "df['Age'].fillna(df.groupby('Title')['Age'].transform('mean'),inplace=True) # unvanların yaş ortalamalarına göre eksik yaşları doldur\n",
        "df['Age'].isnull().sum()"
      ]
    },
    {
      "cell_type": "code",
      "execution_count": null,
      "id": "f98a07a1",
      "metadata": {
        "execution": {
          "iopub.execute_input": "2024-06-06T18:06:11.511287Z",
          "iopub.status.busy": "2024-06-06T18:06:11.510867Z",
          "iopub.status.idle": "2024-06-06T18:06:11.521686Z",
          "shell.execute_reply": "2024-06-06T18:06:11.520388Z"
        },
        "papermill": {
          "duration": 0.034624,
          "end_time": "2024-06-06T18:06:11.524198",
          "exception": false,
          "start_time": "2024-06-06T18:06:11.489574",
          "status": "completed"
        },
        "tags": [],
        "id": "f98a07a1",
        "outputId": "6462b40c-4b87-4918-e2d3-0531062e6221"
      },
      "outputs": [
        {
          "data": {
            "text/plain": [
              "PassengerId       0\n",
              "Survived        418\n",
              "Pclass            0\n",
              "Name              0\n",
              "Sex               0\n",
              "Age               0\n",
              "SibSp             0\n",
              "Parch             0\n",
              "Ticket            0\n",
              "Fare              1\n",
              "Cabin          1014\n",
              "Embarked          0\n",
              "Title             0\n",
              "dtype: int64"
            ]
          },
          "execution_count": 22,
          "metadata": {},
          "output_type": "execute_result"
        }
      ],
      "source": [
        "df.isnull().sum()"
      ]
    },
    {
      "cell_type": "code",
      "execution_count": null,
      "id": "0a4e6271",
      "metadata": {
        "execution": {
          "iopub.execute_input": "2024-06-06T18:06:11.567281Z",
          "iopub.status.busy": "2024-06-06T18:06:11.566143Z",
          "iopub.status.idle": "2024-06-06T18:06:11.574140Z",
          "shell.execute_reply": "2024-06-06T18:06:11.573076Z"
        },
        "papermill": {
          "duration": 0.032152,
          "end_time": "2024-06-06T18:06:11.576549",
          "exception": false,
          "start_time": "2024-06-06T18:06:11.544397",
          "status": "completed"
        },
        "tags": [],
        "id": "0a4e6271",
        "outputId": "a121dc0a-b838-48c5-8b5b-65f445913c66"
      },
      "outputs": [
        {
          "data": {
            "text/plain": [
              "33.29547928134557"
            ]
          },
          "execution_count": 23,
          "metadata": {},
          "output_type": "execute_result"
        }
      ],
      "source": [
        "# Bilet ücreti\n",
        "df['Fare'].mean()"
      ]
    },
    {
      "cell_type": "code",
      "execution_count": null,
      "id": "26a20ff1",
      "metadata": {
        "execution": {
          "iopub.execute_input": "2024-06-06T18:06:11.619401Z",
          "iopub.status.busy": "2024-06-06T18:06:11.618373Z",
          "iopub.status.idle": "2024-06-06T18:06:11.627284Z",
          "shell.execute_reply": "2024-06-06T18:06:11.626112Z"
        },
        "papermill": {
          "duration": 0.0328,
          "end_time": "2024-06-06T18:06:11.629608",
          "exception": false,
          "start_time": "2024-06-06T18:06:11.596808",
          "status": "completed"
        },
        "tags": [],
        "id": "26a20ff1",
        "outputId": "eb350cd3-c9e6-4d17-c7f3-5ce66f95c2b2"
      },
      "outputs": [
        {
          "data": {
            "text/plain": [
              "14.4542"
            ]
          },
          "execution_count": 24,
          "metadata": {},
          "output_type": "execute_result"
        }
      ],
      "source": [
        "df['Fare'].median()"
      ]
    },
    {
      "cell_type": "code",
      "execution_count": null,
      "id": "88e367c9",
      "metadata": {
        "execution": {
          "iopub.execute_input": "2024-06-06T18:06:11.734484Z",
          "iopub.status.busy": "2024-06-06T18:06:11.733636Z",
          "iopub.status.idle": "2024-06-06T18:06:11.740680Z",
          "shell.execute_reply": "2024-06-06T18:06:11.739346Z"
        },
        "papermill": {
          "duration": 0.031278,
          "end_time": "2024-06-06T18:06:11.743155",
          "exception": false,
          "start_time": "2024-06-06T18:06:11.711877",
          "status": "completed"
        },
        "tags": [],
        "id": "88e367c9"
      },
      "outputs": [],
      "source": [
        "df['Fare'].fillna(df['Fare'].median(),inplace=True)\n",
        "#df['Fare'].fillna(df['Fare'].mean(),inplace=True)"
      ]
    },
    {
      "cell_type": "code",
      "execution_count": null,
      "id": "e475cd3b",
      "metadata": {
        "execution": {
          "iopub.execute_input": "2024-06-06T18:06:11.786224Z",
          "iopub.status.busy": "2024-06-06T18:06:11.785423Z",
          "iopub.status.idle": "2024-06-06T18:06:11.796198Z",
          "shell.execute_reply": "2024-06-06T18:06:11.795114Z"
        },
        "papermill": {
          "duration": 0.034904,
          "end_time": "2024-06-06T18:06:11.798491",
          "exception": false,
          "start_time": "2024-06-06T18:06:11.763587",
          "status": "completed"
        },
        "tags": [],
        "id": "e475cd3b",
        "outputId": "210c40f6-ed1c-49f3-c5b1-adabce9f01dd"
      },
      "outputs": [
        {
          "data": {
            "text/plain": [
              "PassengerId       0\n",
              "Survived        418\n",
              "Pclass            0\n",
              "Name              0\n",
              "Sex               0\n",
              "Age               0\n",
              "SibSp             0\n",
              "Parch             0\n",
              "Ticket            0\n",
              "Fare              0\n",
              "Cabin          1014\n",
              "Embarked          0\n",
              "Title             0\n",
              "dtype: int64"
            ]
          },
          "execution_count": 26,
          "metadata": {},
          "output_type": "execute_result"
        }
      ],
      "source": [
        "df.isnull().sum()"
      ]
    },
    {
      "cell_type": "code",
      "execution_count": null,
      "id": "dd587705",
      "metadata": {
        "execution": {
          "iopub.execute_input": "2024-06-06T18:06:11.841482Z",
          "iopub.status.busy": "2024-06-06T18:06:11.841088Z",
          "iopub.status.idle": "2024-06-06T18:06:11.859690Z",
          "shell.execute_reply": "2024-06-06T18:06:11.858409Z"
        },
        "papermill": {
          "duration": 0.04315,
          "end_time": "2024-06-06T18:06:11.862196",
          "exception": false,
          "start_time": "2024-06-06T18:06:11.819046",
          "status": "completed"
        },
        "tags": [],
        "id": "dd587705",
        "outputId": "1ff8bdb7-10cf-4f00-db06-22b0b2f62312"
      },
      "outputs": [
        {
          "data": {
            "text/html": [
              "<div>\n",
              "<style scoped>\n",
              "    .dataframe tbody tr th:only-of-type {\n",
              "        vertical-align: middle;\n",
              "    }\n",
              "\n",
              "    .dataframe tbody tr th {\n",
              "        vertical-align: top;\n",
              "    }\n",
              "\n",
              "    .dataframe thead th {\n",
              "        text-align: right;\n",
              "    }\n",
              "</style>\n",
              "<table border=\"1\" class=\"dataframe\">\n",
              "  <thead>\n",
              "    <tr style=\"text-align: right;\">\n",
              "      <th></th>\n",
              "      <th>Pclass</th>\n",
              "      <th>Sex</th>\n",
              "      <th>Age</th>\n",
              "      <th>SibSp</th>\n",
              "      <th>Parch</th>\n",
              "      <th>Fare</th>\n",
              "      <th>Embarked</th>\n",
              "      <th>Title</th>\n",
              "    </tr>\n",
              "  </thead>\n",
              "  <tbody>\n",
              "    <tr>\n",
              "      <th>0</th>\n",
              "      <td>3</td>\n",
              "      <td>male</td>\n",
              "      <td>22.0</td>\n",
              "      <td>1</td>\n",
              "      <td>0</td>\n",
              "      <td>7.2500</td>\n",
              "      <td>S</td>\n",
              "      <td>Mr</td>\n",
              "    </tr>\n",
              "    <tr>\n",
              "      <th>1</th>\n",
              "      <td>1</td>\n",
              "      <td>female</td>\n",
              "      <td>38.0</td>\n",
              "      <td>1</td>\n",
              "      <td>0</td>\n",
              "      <td>71.2833</td>\n",
              "      <td>C</td>\n",
              "      <td>Mrs</td>\n",
              "    </tr>\n",
              "    <tr>\n",
              "      <th>2</th>\n",
              "      <td>3</td>\n",
              "      <td>female</td>\n",
              "      <td>26.0</td>\n",
              "      <td>0</td>\n",
              "      <td>0</td>\n",
              "      <td>7.9250</td>\n",
              "      <td>S</td>\n",
              "      <td>Miss</td>\n",
              "    </tr>\n",
              "    <tr>\n",
              "      <th>3</th>\n",
              "      <td>1</td>\n",
              "      <td>female</td>\n",
              "      <td>35.0</td>\n",
              "      <td>1</td>\n",
              "      <td>0</td>\n",
              "      <td>53.1000</td>\n",
              "      <td>S</td>\n",
              "      <td>Mrs</td>\n",
              "    </tr>\n",
              "    <tr>\n",
              "      <th>4</th>\n",
              "      <td>3</td>\n",
              "      <td>male</td>\n",
              "      <td>35.0</td>\n",
              "      <td>0</td>\n",
              "      <td>0</td>\n",
              "      <td>8.0500</td>\n",
              "      <td>S</td>\n",
              "      <td>Mr</td>\n",
              "    </tr>\n",
              "  </tbody>\n",
              "</table>\n",
              "</div>"
            ],
            "text/plain": [
              "   Pclass     Sex   Age  SibSp  Parch     Fare Embarked Title\n",
              "0       3    male  22.0      1      0   7.2500        S    Mr\n",
              "1       1  female  38.0      1      0  71.2833        C   Mrs\n",
              "2       3  female  26.0      0      0   7.9250        S  Miss\n",
              "3       1  female  35.0      1      0  53.1000        S   Mrs\n",
              "4       3    male  35.0      0      0   8.0500        S    Mr"
            ]
          },
          "execution_count": 27,
          "metadata": {},
          "output_type": "execute_result"
        }
      ],
      "source": [
        "#ÖZellikler ve hedef değişkenkerini belirle\n",
        "y=df['Survived']\n",
        "X=df.drop(['Survived','PassengerId','Name', 'Ticket','Cabin'],axis=1)\n",
        "X.head()"
      ]
    },
    {
      "cell_type": "code",
      "execution_count": null,
      "id": "f3d654ca",
      "metadata": {
        "execution": {
          "iopub.execute_input": "2024-06-06T18:06:11.906326Z",
          "iopub.status.busy": "2024-06-06T18:06:11.905202Z",
          "iopub.status.idle": "2024-06-06T18:06:11.913984Z",
          "shell.execute_reply": "2024-06-06T18:06:11.912979Z"
        },
        "papermill": {
          "duration": 0.033102,
          "end_time": "2024-06-06T18:06:11.916301",
          "exception": false,
          "start_time": "2024-06-06T18:06:11.883199",
          "status": "completed"
        },
        "tags": [],
        "id": "f3d654ca",
        "outputId": "b8457703-2aa9-4af7-d6b1-b0cbe7304d75"
      },
      "outputs": [
        {
          "data": {
            "text/plain": [
              "0       0.0\n",
              "1       1.0\n",
              "2       1.0\n",
              "3       1.0\n",
              "4       0.0\n",
              "       ... \n",
              "1304    NaN\n",
              "1305    NaN\n",
              "1306    NaN\n",
              "1307    NaN\n",
              "1308    NaN\n",
              "Name: Survived, Length: 1309, dtype: float64"
            ]
          },
          "execution_count": 28,
          "metadata": {},
          "output_type": "execute_result"
        }
      ],
      "source": [
        "y"
      ]
    },
    {
      "cell_type": "code",
      "execution_count": null,
      "id": "bc854867",
      "metadata": {
        "execution": {
          "iopub.execute_input": "2024-06-06T18:06:11.960703Z",
          "iopub.status.busy": "2024-06-06T18:06:11.959768Z",
          "iopub.status.idle": "2024-06-06T18:06:11.972219Z",
          "shell.execute_reply": "2024-06-06T18:06:11.971325Z"
        },
        "papermill": {
          "duration": 0.037238,
          "end_time": "2024-06-06T18:06:11.974740",
          "exception": false,
          "start_time": "2024-06-06T18:06:11.937502",
          "status": "completed"
        },
        "tags": [],
        "id": "bc854867"
      },
      "outputs": [],
      "source": [
        "#Kategorik verileri sayısal verilere çevirir\n",
        "#One Hot Encoding\n",
        "X=pd.get_dummies(X,drop_first=True) #Feature Engineering özellik mühendisliği\n",
        "#Pclass aslında sayısal bir veri değil önce dtype objeye çevireceksiniz sonra dummies yapacaksınız"
      ]
    },
    {
      "cell_type": "code",
      "execution_count": null,
      "id": "82237ce7",
      "metadata": {
        "execution": {
          "iopub.execute_input": "2024-06-06T18:06:12.018753Z",
          "iopub.status.busy": "2024-06-06T18:06:12.018388Z",
          "iopub.status.idle": "2024-06-06T18:06:12.038451Z",
          "shell.execute_reply": "2024-06-06T18:06:12.037292Z"
        },
        "papermill": {
          "duration": 0.045147,
          "end_time": "2024-06-06T18:06:12.041049",
          "exception": false,
          "start_time": "2024-06-06T18:06:11.995902",
          "status": "completed"
        },
        "tags": [],
        "id": "82237ce7",
        "outputId": "27f25e6b-afa2-4185-fd3e-07a7038c1947"
      },
      "outputs": [
        {
          "data": {
            "text/html": [
              "<div>\n",
              "<style scoped>\n",
              "    .dataframe tbody tr th:only-of-type {\n",
              "        vertical-align: middle;\n",
              "    }\n",
              "\n",
              "    .dataframe tbody tr th {\n",
              "        vertical-align: top;\n",
              "    }\n",
              "\n",
              "    .dataframe thead th {\n",
              "        text-align: right;\n",
              "    }\n",
              "</style>\n",
              "<table border=\"1\" class=\"dataframe\">\n",
              "  <thead>\n",
              "    <tr style=\"text-align: right;\">\n",
              "      <th></th>\n",
              "      <th>Pclass</th>\n",
              "      <th>Age</th>\n",
              "      <th>SibSp</th>\n",
              "      <th>Parch</th>\n",
              "      <th>Fare</th>\n",
              "      <th>Sex_male</th>\n",
              "      <th>Embarked_Q</th>\n",
              "      <th>Embarked_S</th>\n",
              "      <th>Title_Miss</th>\n",
              "      <th>Title_Mr</th>\n",
              "      <th>Title_Mrs</th>\n",
              "    </tr>\n",
              "  </thead>\n",
              "  <tbody>\n",
              "    <tr>\n",
              "      <th>0</th>\n",
              "      <td>3</td>\n",
              "      <td>22.000000</td>\n",
              "      <td>1</td>\n",
              "      <td>0</td>\n",
              "      <td>7.2500</td>\n",
              "      <td>True</td>\n",
              "      <td>False</td>\n",
              "      <td>True</td>\n",
              "      <td>False</td>\n",
              "      <td>True</td>\n",
              "      <td>False</td>\n",
              "    </tr>\n",
              "    <tr>\n",
              "      <th>1</th>\n",
              "      <td>1</td>\n",
              "      <td>38.000000</td>\n",
              "      <td>1</td>\n",
              "      <td>0</td>\n",
              "      <td>71.2833</td>\n",
              "      <td>False</td>\n",
              "      <td>False</td>\n",
              "      <td>False</td>\n",
              "      <td>False</td>\n",
              "      <td>False</td>\n",
              "      <td>True</td>\n",
              "    </tr>\n",
              "    <tr>\n",
              "      <th>2</th>\n",
              "      <td>3</td>\n",
              "      <td>26.000000</td>\n",
              "      <td>0</td>\n",
              "      <td>0</td>\n",
              "      <td>7.9250</td>\n",
              "      <td>False</td>\n",
              "      <td>False</td>\n",
              "      <td>True</td>\n",
              "      <td>True</td>\n",
              "      <td>False</td>\n",
              "      <td>False</td>\n",
              "    </tr>\n",
              "    <tr>\n",
              "      <th>3</th>\n",
              "      <td>1</td>\n",
              "      <td>35.000000</td>\n",
              "      <td>1</td>\n",
              "      <td>0</td>\n",
              "      <td>53.1000</td>\n",
              "      <td>False</td>\n",
              "      <td>False</td>\n",
              "      <td>True</td>\n",
              "      <td>False</td>\n",
              "      <td>False</td>\n",
              "      <td>True</td>\n",
              "    </tr>\n",
              "    <tr>\n",
              "      <th>4</th>\n",
              "      <td>3</td>\n",
              "      <td>35.000000</td>\n",
              "      <td>0</td>\n",
              "      <td>0</td>\n",
              "      <td>8.0500</td>\n",
              "      <td>True</td>\n",
              "      <td>False</td>\n",
              "      <td>True</td>\n",
              "      <td>False</td>\n",
              "      <td>True</td>\n",
              "      <td>False</td>\n",
              "    </tr>\n",
              "    <tr>\n",
              "      <th>...</th>\n",
              "      <td>...</td>\n",
              "      <td>...</td>\n",
              "      <td>...</td>\n",
              "      <td>...</td>\n",
              "      <td>...</td>\n",
              "      <td>...</td>\n",
              "      <td>...</td>\n",
              "      <td>...</td>\n",
              "      <td>...</td>\n",
              "      <td>...</td>\n",
              "      <td>...</td>\n",
              "    </tr>\n",
              "    <tr>\n",
              "      <th>1304</th>\n",
              "      <td>3</td>\n",
              "      <td>32.811056</td>\n",
              "      <td>0</td>\n",
              "      <td>0</td>\n",
              "      <td>8.0500</td>\n",
              "      <td>True</td>\n",
              "      <td>False</td>\n",
              "      <td>True</td>\n",
              "      <td>False</td>\n",
              "      <td>True</td>\n",
              "      <td>False</td>\n",
              "    </tr>\n",
              "    <tr>\n",
              "      <th>1305</th>\n",
              "      <td>1</td>\n",
              "      <td>39.000000</td>\n",
              "      <td>0</td>\n",
              "      <td>0</td>\n",
              "      <td>108.9000</td>\n",
              "      <td>False</td>\n",
              "      <td>False</td>\n",
              "      <td>False</td>\n",
              "      <td>False</td>\n",
              "      <td>False</td>\n",
              "      <td>True</td>\n",
              "    </tr>\n",
              "    <tr>\n",
              "      <th>1306</th>\n",
              "      <td>3</td>\n",
              "      <td>38.500000</td>\n",
              "      <td>0</td>\n",
              "      <td>0</td>\n",
              "      <td>7.2500</td>\n",
              "      <td>True</td>\n",
              "      <td>False</td>\n",
              "      <td>True</td>\n",
              "      <td>False</td>\n",
              "      <td>True</td>\n",
              "      <td>False</td>\n",
              "    </tr>\n",
              "    <tr>\n",
              "      <th>1307</th>\n",
              "      <td>3</td>\n",
              "      <td>32.811056</td>\n",
              "      <td>0</td>\n",
              "      <td>0</td>\n",
              "      <td>8.0500</td>\n",
              "      <td>True</td>\n",
              "      <td>False</td>\n",
              "      <td>True</td>\n",
              "      <td>False</td>\n",
              "      <td>True</td>\n",
              "      <td>False</td>\n",
              "    </tr>\n",
              "    <tr>\n",
              "      <th>1308</th>\n",
              "      <td>3</td>\n",
              "      <td>5.482642</td>\n",
              "      <td>1</td>\n",
              "      <td>1</td>\n",
              "      <td>22.3583</td>\n",
              "      <td>True</td>\n",
              "      <td>False</td>\n",
              "      <td>False</td>\n",
              "      <td>False</td>\n",
              "      <td>False</td>\n",
              "      <td>False</td>\n",
              "    </tr>\n",
              "  </tbody>\n",
              "</table>\n",
              "<p>1309 rows × 11 columns</p>\n",
              "</div>"
            ],
            "text/plain": [
              "      Pclass        Age  SibSp  Parch      Fare  Sex_male  Embarked_Q  \\\n",
              "0          3  22.000000      1      0    7.2500      True       False   \n",
              "1          1  38.000000      1      0   71.2833     False       False   \n",
              "2          3  26.000000      0      0    7.9250     False       False   \n",
              "3          1  35.000000      1      0   53.1000     False       False   \n",
              "4          3  35.000000      0      0    8.0500      True       False   \n",
              "...      ...        ...    ...    ...       ...       ...         ...   \n",
              "1304       3  32.811056      0      0    8.0500      True       False   \n",
              "1305       1  39.000000      0      0  108.9000     False       False   \n",
              "1306       3  38.500000      0      0    7.2500      True       False   \n",
              "1307       3  32.811056      0      0    8.0500      True       False   \n",
              "1308       3   5.482642      1      1   22.3583      True       False   \n",
              "\n",
              "      Embarked_S  Title_Miss  Title_Mr  Title_Mrs  \n",
              "0           True       False      True      False  \n",
              "1          False       False     False       True  \n",
              "2           True        True     False      False  \n",
              "3           True       False     False       True  \n",
              "4           True       False      True      False  \n",
              "...          ...         ...       ...        ...  \n",
              "1304        True       False      True      False  \n",
              "1305       False       False     False       True  \n",
              "1306        True       False      True      False  \n",
              "1307        True       False      True      False  \n",
              "1308       False       False     False      False  \n",
              "\n",
              "[1309 rows x 11 columns]"
            ]
          },
          "execution_count": 30,
          "metadata": {},
          "output_type": "execute_result"
        }
      ],
      "source": [
        "X"
      ]
    },
    {
      "cell_type": "code",
      "execution_count": null,
      "id": "4256a002",
      "metadata": {
        "execution": {
          "iopub.execute_input": "2024-06-06T18:06:12.086896Z",
          "iopub.status.busy": "2024-06-06T18:06:12.085594Z",
          "iopub.status.idle": "2024-06-06T18:06:12.093368Z",
          "shell.execute_reply": "2024-06-06T18:06:12.092309Z"
        },
        "papermill": {
          "duration": 0.032777,
          "end_time": "2024-06-06T18:06:12.095540",
          "exception": false,
          "start_time": "2024-06-06T18:06:12.062763",
          "status": "completed"
        },
        "tags": [],
        "id": "4256a002",
        "outputId": "413b3245-718f-4f3e-95e2-3be1fc7b9719"
      },
      "outputs": [
        {
          "data": {
            "text/plain": [
              "array(['S', 'C', 'Q'], dtype=object)"
            ]
          },
          "execution_count": 31,
          "metadata": {},
          "output_type": "execute_result"
        }
      ],
      "source": [
        "df['Embarked'].unique()"
      ]
    },
    {
      "cell_type": "code",
      "execution_count": null,
      "id": "81c1c522",
      "metadata": {
        "execution": {
          "iopub.execute_input": "2024-06-06T18:06:12.140525Z",
          "iopub.status.busy": "2024-06-06T18:06:12.140122Z",
          "iopub.status.idle": "2024-06-06T18:06:12.146250Z",
          "shell.execute_reply": "2024-06-06T18:06:12.145055Z"
        },
        "papermill": {
          "duration": 0.031583,
          "end_time": "2024-06-06T18:06:12.148607",
          "exception": false,
          "start_time": "2024-06-06T18:06:12.117024",
          "status": "completed"
        },
        "tags": [],
        "id": "81c1c522"
      },
      "outputs": [],
      "source": [
        "#Train ve testi aşağıdaki gibi ayırıyoruz\n",
        "X_train=X[:891] #Train veri setinde ilk 891\n",
        "X_test=X[891:]\n",
        "y_train=y[:891]\n",
        "y_test=y[891:]"
      ]
    },
    {
      "cell_type": "code",
      "execution_count": null,
      "id": "b91c73c8",
      "metadata": {
        "execution": {
          "iopub.execute_input": "2024-06-06T18:06:12.194422Z",
          "iopub.status.busy": "2024-06-06T18:06:12.194002Z",
          "iopub.status.idle": "2024-06-06T18:06:12.202776Z",
          "shell.execute_reply": "2024-06-06T18:06:12.201538Z"
        },
        "papermill": {
          "duration": 0.034768,
          "end_time": "2024-06-06T18:06:12.205230",
          "exception": false,
          "start_time": "2024-06-06T18:06:12.170462",
          "status": "completed"
        },
        "tags": [],
        "id": "b91c73c8",
        "outputId": "84d70522-2cc2-4d80-d735-2a31d728c88f"
      },
      "outputs": [
        {
          "data": {
            "text/plain": [
              "891    NaN\n",
              "892    NaN\n",
              "893    NaN\n",
              "894    NaN\n",
              "895    NaN\n",
              "        ..\n",
              "1304   NaN\n",
              "1305   NaN\n",
              "1306   NaN\n",
              "1307   NaN\n",
              "1308   NaN\n",
              "Name: Survived, Length: 418, dtype: float64"
            ]
          },
          "execution_count": 33,
          "metadata": {},
          "output_type": "execute_result"
        }
      ],
      "source": [
        "#Tahminlerin gerçek değerleri yraışmalarda bizden gizlenir\n",
        "y_test"
      ]
    },
    {
      "cell_type": "code",
      "execution_count": null,
      "id": "f8b362ec",
      "metadata": {
        "execution": {
          "iopub.execute_input": "2024-06-06T18:06:12.251188Z",
          "iopub.status.busy": "2024-06-06T18:06:12.250773Z",
          "iopub.status.idle": "2024-06-06T18:06:12.748325Z",
          "shell.execute_reply": "2024-06-06T18:06:12.747145Z"
        },
        "papermill": {
          "duration": 0.524123,
          "end_time": "2024-06-06T18:06:12.751279",
          "exception": false,
          "start_time": "2024-06-06T18:06:12.227156",
          "status": "completed"
        },
        "tags": [],
        "id": "f8b362ec"
      },
      "outputs": [],
      "source": [
        "#Model Kütüphaneleri\n",
        "from sklearn.ensemble import RandomForestClassifier\n",
        "from sklearn.naive_bayes import GaussianNB\n",
        "from sklearn.linear_model import LogisticRegression\n",
        "from sklearn.svm import SVC\n",
        "from sklearn.neighbors import KNeighborsClassifier\n",
        "from sklearn.tree import DecisionTreeClassifier\n",
        "from sklearn.ensemble import GradientBoostingClassifier\n",
        "from sklearn.ensemble import AdaBoostClassifier\n",
        "from sklearn.ensemble import ExtraTreesClassifier\n",
        "from sklearn.ensemble import BaggingClassifier\n",
        "from sklearn.ensemble import VotingClassifier\n",
        "from sklearn.naive_bayes import BernoulliNB\n",
        "#metrikler\n",
        "from sklearn.model_selection import cross_val_score\n",
        "#accuaracy\n",
        "from sklearn.metrics import accuracy_score, confusion_matrix, classification_report\n",
        "from sklearn.model_selection import train_test_split"
      ]
    },
    {
      "cell_type": "code",
      "execution_count": null,
      "id": "0ae71531",
      "metadata": {
        "execution": {
          "iopub.execute_input": "2024-06-06T18:06:12.801810Z",
          "iopub.status.busy": "2024-06-06T18:06:12.801434Z",
          "iopub.status.idle": "2024-06-06T18:06:12.813801Z",
          "shell.execute_reply": "2024-06-06T18:06:12.812667Z"
        },
        "papermill": {
          "duration": 0.041494,
          "end_time": "2024-06-06T18:06:12.816297",
          "exception": false,
          "start_time": "2024-06-06T18:06:12.774803",
          "status": "completed"
        },
        "tags": [],
        "id": "0ae71531"
      },
      "outputs": [],
      "source": [
        "def model_classification(X,y):\n",
        "    '''\n",
        "    X: independent variable\n",
        "    y: dependent variable\n",
        "    return best model and its accuracy\n",
        "    '''\n",
        "    x_train,x_test,y_train,y_test=train_test_split(X,y,test_size=0.3,random_state=42)\n",
        "    models = [GaussianNB(),BernoulliNB(),LogisticRegression(),RandomForestClassifier(),\n",
        "              GradientBoostingClassifier(), KNeighborsClassifier(n_neighbors=5)]\n",
        "    results=[]\n",
        "    for model in models:\n",
        "        model.fit(x_train,y_train)\n",
        "        model_predict=model.predict(x_test)\n",
        "        print(\"Model: \",model)\n",
        "        print(\"Model Accuracy: \",accuracy_score(model_predict,y_test))\n",
        "        print(\"Model Confusion Matrix: \",confusion_matrix(model_predict,y_test),\"\\n\")\n",
        "        print(\"Model Classification Report: \",classification_report(model_predict,y_test))\n",
        "        print(\"-\"*50)\n",
        "        results.append(accuracy_score(model_predict,y_test))\n",
        "    #best model\n",
        "    best_model=models[results.index(max(results))]\n",
        "    print(\"Best Model: \",best_model)\n",
        "    print(\"Best Model Accuracy: \",max(results))\n",
        "    models=pd.DataFrame({\n",
        "        'Model':['GaussianNB','BernoulliNB','LogisticRegression','RandomForestClassifier', 'GradientBoostingClassifier', 'KNeighborsClassifier'],\n",
        "        'Score':results})\n",
        "    print(models.sort_values(by='Score', ascending=False, ignore_index=True))\n",
        "    return best_model,max(results), confusion_matrix(model_predict,y_test)"
      ]
    },
    {
      "cell_type": "code",
      "execution_count": null,
      "id": "62770bea",
      "metadata": {
        "execution": {
          "iopub.execute_input": "2024-06-06T18:06:12.864168Z",
          "iopub.status.busy": "2024-06-06T18:06:12.862711Z",
          "iopub.status.idle": "2024-06-06T18:06:13.471688Z",
          "shell.execute_reply": "2024-06-06T18:06:13.470326Z"
        },
        "papermill": {
          "duration": 0.63638,
          "end_time": "2024-06-06T18:06:13.474394",
          "exception": false,
          "start_time": "2024-06-06T18:06:12.838014",
          "status": "completed"
        },
        "tags": [],
        "id": "62770bea",
        "outputId": "e5bdc74c-805c-4b13-e443-a0ab40c56f4a"
      },
      "outputs": [
        {
          "name": "stdout",
          "output_type": "stream",
          "text": [
            "Model:  GaussianNB()\n",
            "Model Accuracy:  0.7947761194029851\n",
            "Model Confusion Matrix:  [[132  30]\n",
            " [ 25  81]] \n",
            "\n",
            "Model Classification Report:                precision    recall  f1-score   support\n",
            "\n",
            "         0.0       0.84      0.81      0.83       162\n",
            "         1.0       0.73      0.76      0.75       106\n",
            "\n",
            "    accuracy                           0.79       268\n",
            "   macro avg       0.79      0.79      0.79       268\n",
            "weighted avg       0.80      0.79      0.80       268\n",
            "\n",
            "--------------------------------------------------\n",
            "Model:  BernoulliNB()\n",
            "Model Accuracy:  0.7947761194029851\n",
            "Model Confusion Matrix:  [[134  32]\n",
            " [ 23  79]] \n",
            "\n",
            "Model Classification Report:                precision    recall  f1-score   support\n",
            "\n",
            "         0.0       0.85      0.81      0.83       166\n",
            "         1.0       0.71      0.77      0.74       102\n",
            "\n",
            "    accuracy                           0.79       268\n",
            "   macro avg       0.78      0.79      0.79       268\n",
            "weighted avg       0.80      0.79      0.80       268\n",
            "\n",
            "--------------------------------------------------\n",
            "Model:  LogisticRegression()\n",
            "Model Accuracy:  0.8171641791044776\n",
            "Model Confusion Matrix:  [[136  28]\n",
            " [ 21  83]] \n",
            "\n",
            "Model Classification Report:                precision    recall  f1-score   support\n",
            "\n",
            "         0.0       0.87      0.83      0.85       164\n",
            "         1.0       0.75      0.80      0.77       104\n",
            "\n",
            "    accuracy                           0.82       268\n",
            "   macro avg       0.81      0.81      0.81       268\n",
            "weighted avg       0.82      0.82      0.82       268\n",
            "\n",
            "--------------------------------------------------\n",
            "Model:  RandomForestClassifier()\n",
            "Model Accuracy:  0.7910447761194029\n",
            "Model Confusion Matrix:  [[134  33]\n",
            " [ 23  78]] \n",
            "\n",
            "Model Classification Report:                precision    recall  f1-score   support\n",
            "\n",
            "         0.0       0.85      0.80      0.83       167\n",
            "         1.0       0.70      0.77      0.74       101\n",
            "\n",
            "    accuracy                           0.79       268\n",
            "   macro avg       0.78      0.79      0.78       268\n",
            "weighted avg       0.80      0.79      0.79       268\n",
            "\n",
            "--------------------------------------------------\n",
            "Model:  GradientBoostingClassifier()\n",
            "Model Accuracy:  0.8246268656716418\n",
            "Model Confusion Matrix:  [[144  34]\n",
            " [ 13  77]] \n",
            "\n",
            "Model Classification Report:                precision    recall  f1-score   support\n",
            "\n",
            "         0.0       0.92      0.81      0.86       178\n",
            "         1.0       0.69      0.86      0.77        90\n",
            "\n",
            "    accuracy                           0.82       268\n",
            "   macro avg       0.81      0.83      0.81       268\n",
            "weighted avg       0.84      0.82      0.83       268\n",
            "\n",
            "--------------------------------------------------\n",
            "Model:  KNeighborsClassifier()\n",
            "Model Accuracy:  0.7126865671641791\n",
            "Model Confusion Matrix:  [[130  50]\n",
            " [ 27  61]] \n",
            "\n",
            "Model Classification Report:                precision    recall  f1-score   support\n",
            "\n",
            "         0.0       0.83      0.72      0.77       180\n",
            "         1.0       0.55      0.69      0.61        88\n",
            "\n",
            "    accuracy                           0.71       268\n",
            "   macro avg       0.69      0.71      0.69       268\n",
            "weighted avg       0.74      0.71      0.72       268\n",
            "\n",
            "--------------------------------------------------\n",
            "Best Model:  GradientBoostingClassifier()\n",
            "Best Model Accuracy:  0.8246268656716418\n",
            "                        Model     Score\n",
            "0  GradientBoostingClassifier  0.824627\n",
            "1          LogisticRegression  0.817164\n",
            "2                  GaussianNB  0.794776\n",
            "3                 BernoulliNB  0.794776\n",
            "4      RandomForestClassifier  0.791045\n",
            "5        KNeighborsClassifier  0.712687\n"
          ]
        },
        {
          "data": {
            "text/plain": [
              "(GradientBoostingClassifier(),\n",
              " 0.8246268656716418,\n",
              " array([[130,  50],\n",
              "        [ 27,  61]]))"
            ]
          },
          "execution_count": 36,
          "metadata": {},
          "output_type": "execute_result"
        }
      ],
      "source": [
        "model_classification(X_train,y_train)"
      ]
    },
    {
      "cell_type": "code",
      "execution_count": null,
      "id": "a6b4ce74",
      "metadata": {
        "execution": {
          "iopub.execute_input": "2024-06-06T18:06:13.522383Z",
          "iopub.status.busy": "2024-06-06T18:06:13.521975Z",
          "iopub.status.idle": "2024-06-06T18:06:13.700082Z",
          "shell.execute_reply": "2024-06-06T18:06:13.698662Z"
        },
        "papermill": {
          "duration": 0.205796,
          "end_time": "2024-06-06T18:06:13.702777",
          "exception": false,
          "start_time": "2024-06-06T18:06:13.496981",
          "status": "completed"
        },
        "tags": [],
        "id": "a6b4ce74",
        "outputId": "ba0263f2-7ed6-45b5-ad08-e4190bdf9018"
      },
      "outputs": [
        {
          "data": {
            "text/plain": [
              "array([0., 0., 0., 0., 1., 0., 1., 0., 1., 0., 0., 0., 1., 0., 1., 1., 0.,\n",
              "       0., 0., 1., 0., 0., 1., 0., 1., 0., 1., 0., 0., 0., 0., 0., 1., 0.,\n",
              "       1., 0., 0., 0., 0., 0., 0., 1., 0., 1., 1., 0., 0., 0., 1., 1., 0.,\n",
              "       0., 1., 1., 0., 0., 0., 0., 0., 1., 0., 0., 0., 1., 1., 1., 1., 0.,\n",
              "       0., 1., 1., 0., 0., 1., 1., 0., 0., 1., 0., 1., 1., 0., 0., 0., 0.,\n",
              "       0., 1., 0., 1., 1., 1., 0., 1., 0., 0., 0., 1., 0., 0., 0., 1., 0.,\n",
              "       0., 0., 1., 0., 0., 0., 0., 0., 0., 1., 1., 1., 1., 0., 0., 1., 0.,\n",
              "       1., 1., 0., 1., 0., 0., 1., 0., 1., 0., 0., 0., 0., 0., 0., 0., 0.,\n",
              "       0., 0., 0., 0., 0., 1., 0., 0., 1., 0., 0., 0., 1., 0., 1., 0., 0.,\n",
              "       1., 0., 0., 1., 0., 1., 0., 1., 1., 1., 0., 0., 0., 0., 0., 1., 0.,\n",
              "       0., 0., 0., 0., 0., 1., 1., 0., 1., 1., 0., 0., 1., 0., 1., 0., 1.,\n",
              "       0., 0., 0., 0., 0., 0., 0., 1., 0., 1., 0., 0., 1., 1., 1., 0., 1.,\n",
              "       0., 0., 1., 0., 1., 0., 0., 0., 0., 1., 1., 0., 1., 0., 1., 0., 1.,\n",
              "       0., 1., 0., 1., 1., 0., 1., 0., 0., 0., 1., 0., 0., 0., 0., 0., 0.,\n",
              "       1., 1., 1., 1., 1., 0., 1., 0., 1., 0., 1., 0., 1., 0., 0., 0., 0.,\n",
              "       0., 0., 0., 1., 0., 0., 0., 1., 1., 0., 0., 0., 0., 0., 0., 0., 0.,\n",
              "       1., 1., 0., 1., 0., 0., 0., 0., 0., 1., 1., 1., 1., 0., 0., 0., 0.,\n",
              "       0., 0., 0., 0., 0., 0., 0., 1., 0., 0., 0., 0., 0., 0., 0., 1., 1.,\n",
              "       0., 1., 0., 0., 0., 0., 0., 0., 1., 1., 0., 0., 0., 0., 0., 0., 0.,\n",
              "       1., 1., 0., 1., 0., 0., 0., 1., 0., 0., 1., 0., 0., 0., 0., 0., 1.,\n",
              "       0., 0., 0., 1., 1., 1., 0., 1., 0., 1., 1., 0., 0., 0., 1., 0., 1.,\n",
              "       0., 0., 0., 0., 1., 1., 0., 1., 0., 0., 0., 1., 0., 0., 1., 0., 0.,\n",
              "       1., 1., 0., 0., 0., 0., 0., 0., 0., 1., 0., 1., 0., 0., 0., 0., 0.,\n",
              "       1., 1., 0., 0., 1., 0., 1., 0., 0., 1., 0., 1., 0., 0., 0., 0., 0.,\n",
              "       1., 1., 1., 1., 0., 0., 1., 0., 0., 1.])"
            ]
          },
          "execution_count": 37,
          "metadata": {},
          "output_type": "execute_result"
        }
      ],
      "source": [
        "gb=GradientBoostingClassifier()\n",
        "gb.fit(X_train,y_train)# Testi kaggle üzeirnden yapacağımız için artık veri setini bölmeden elimizdeki tüm veri setini gönderiyoruz.\n",
        "y_pred=gb.predict(X_test)\n",
        "y_pred"
      ]
    },
    {
      "cell_type": "code",
      "execution_count": null,
      "id": "f559038f",
      "metadata": {
        "execution": {
          "iopub.execute_input": "2024-06-06T18:06:13.749904Z",
          "iopub.status.busy": "2024-06-06T18:06:13.749520Z",
          "iopub.status.idle": "2024-06-06T18:06:13.754498Z",
          "shell.execute_reply": "2024-06-06T18:06:13.753292Z"
        },
        "papermill": {
          "duration": 0.03166,
          "end_time": "2024-06-06T18:06:13.757101",
          "exception": false,
          "start_time": "2024-06-06T18:06:13.725441",
          "status": "completed"
        },
        "tags": [],
        "id": "f559038f"
      },
      "outputs": [],
      "source": [
        "#from all_class import all_classification_models"
      ]
    },
    {
      "cell_type": "code",
      "execution_count": null,
      "id": "a6bf9b0a",
      "metadata": {
        "execution": {
          "iopub.execute_input": "2024-06-06T18:06:13.812279Z",
          "iopub.status.busy": "2024-06-06T18:06:13.811032Z",
          "iopub.status.idle": "2024-06-06T18:06:13.827745Z",
          "shell.execute_reply": "2024-06-06T18:06:13.826332Z"
        },
        "papermill": {
          "duration": 0.049758,
          "end_time": "2024-06-06T18:06:13.830591",
          "exception": false,
          "start_time": "2024-06-06T18:06:13.780833",
          "status": "completed"
        },
        "tags": [],
        "id": "a6bf9b0a",
        "outputId": "1c61cdb5-609e-49b4-da00-1c5e75d7644a"
      },
      "outputs": [
        {
          "data": {
            "text/html": [
              "<div>\n",
              "<style scoped>\n",
              "    .dataframe tbody tr th:only-of-type {\n",
              "        vertical-align: middle;\n",
              "    }\n",
              "\n",
              "    .dataframe tbody tr th {\n",
              "        vertical-align: top;\n",
              "    }\n",
              "\n",
              "    .dataframe thead th {\n",
              "        text-align: right;\n",
              "    }\n",
              "</style>\n",
              "<table border=\"1\" class=\"dataframe\">\n",
              "  <thead>\n",
              "    <tr style=\"text-align: right;\">\n",
              "      <th></th>\n",
              "      <th>PassengerId</th>\n",
              "      <th>Survived</th>\n",
              "    </tr>\n",
              "  </thead>\n",
              "  <tbody>\n",
              "    <tr>\n",
              "      <th>0</th>\n",
              "      <td>892</td>\n",
              "      <td>0</td>\n",
              "    </tr>\n",
              "    <tr>\n",
              "      <th>1</th>\n",
              "      <td>893</td>\n",
              "      <td>0</td>\n",
              "    </tr>\n",
              "    <tr>\n",
              "      <th>2</th>\n",
              "      <td>894</td>\n",
              "      <td>0</td>\n",
              "    </tr>\n",
              "    <tr>\n",
              "      <th>3</th>\n",
              "      <td>895</td>\n",
              "      <td>0</td>\n",
              "    </tr>\n",
              "    <tr>\n",
              "      <th>4</th>\n",
              "      <td>896</td>\n",
              "      <td>1</td>\n",
              "    </tr>\n",
              "    <tr>\n",
              "      <th>...</th>\n",
              "      <td>...</td>\n",
              "      <td>...</td>\n",
              "    </tr>\n",
              "    <tr>\n",
              "      <th>413</th>\n",
              "      <td>1305</td>\n",
              "      <td>0</td>\n",
              "    </tr>\n",
              "    <tr>\n",
              "      <th>414</th>\n",
              "      <td>1306</td>\n",
              "      <td>1</td>\n",
              "    </tr>\n",
              "    <tr>\n",
              "      <th>415</th>\n",
              "      <td>1307</td>\n",
              "      <td>0</td>\n",
              "    </tr>\n",
              "    <tr>\n",
              "      <th>416</th>\n",
              "      <td>1308</td>\n",
              "      <td>0</td>\n",
              "    </tr>\n",
              "    <tr>\n",
              "      <th>417</th>\n",
              "      <td>1309</td>\n",
              "      <td>1</td>\n",
              "    </tr>\n",
              "  </tbody>\n",
              "</table>\n",
              "<p>418 rows × 2 columns</p>\n",
              "</div>"
            ],
            "text/plain": [
              "     PassengerId  Survived\n",
              "0            892         0\n",
              "1            893         0\n",
              "2            894         0\n",
              "3            895         0\n",
              "4            896         1\n",
              "..           ...       ...\n",
              "413         1305         0\n",
              "414         1306         1\n",
              "415         1307         0\n",
              "416         1308         0\n",
              "417         1309         1\n",
              "\n",
              "[418 rows x 2 columns]"
            ]
          },
          "execution_count": 39,
          "metadata": {},
          "output_type": "execute_result"
        }
      ],
      "source": [
        "submission = pd.DataFrame({'PassengerId': df_test.PassengerId, 'Survived': y_pred.astype(int)})\n",
        "submission"
      ]
    },
    {
      "cell_type": "code",
      "execution_count": null,
      "id": "8e54346f",
      "metadata": {
        "execution": {
          "iopub.execute_input": "2024-06-06T18:06:13.884967Z",
          "iopub.status.busy": "2024-06-06T18:06:13.884579Z",
          "iopub.status.idle": "2024-06-06T18:06:13.893441Z",
          "shell.execute_reply": "2024-06-06T18:06:13.892334Z"
        },
        "papermill": {
          "duration": 0.03634,
          "end_time": "2024-06-06T18:06:13.896101",
          "exception": false,
          "start_time": "2024-06-06T18:06:13.859761",
          "status": "completed"
        },
        "tags": [],
        "id": "8e54346f"
      },
      "outputs": [],
      "source": [
        "submission.to_csv('submission.csv', index=False) #data frame i csv dosyası oalrak kaydediyor"
      ]
    },
    {
      "cell_type": "code",
      "execution_count": null,
      "id": "9e5ed2e7",
      "metadata": {
        "papermill": {
          "duration": 0.023355,
          "end_time": "2024-06-06T18:06:13.942860",
          "exception": false,
          "start_time": "2024-06-06T18:06:13.919505",
          "status": "completed"
        },
        "tags": [],
        "id": "9e5ed2e7"
      },
      "outputs": [],
      "source": []
    }
  ],
  "metadata": {
    "kaggle": {
      "accelerator": "none",
      "dataSources": [
        {
          "databundleVersionId": 26502,
          "sourceId": 3136,
          "sourceType": "competition"
        }
      ],
      "dockerImageVersionId": 30732,
      "isGpuEnabled": false,
      "isInternetEnabled": true,
      "language": "python",
      "sourceType": "notebook"
    },
    "kernelspec": {
      "display_name": "Python 3",
      "language": "python",
      "name": "python3"
    },
    "language_info": {
      "codemirror_mode": {
        "name": "ipython",
        "version": 3
      },
      "file_extension": ".py",
      "mimetype": "text/x-python",
      "name": "python",
      "nbconvert_exporter": "python",
      "pygments_lexer": "ipython3",
      "version": "3.10.13"
    },
    "papermill": {
      "default_parameters": {},
      "duration": 10.315005,
      "end_time": "2024-06-06T18:06:14.688114",
      "environment_variables": {},
      "exception": null,
      "input_path": "__notebook__.ipynb",
      "output_path": "__notebook__.ipynb",
      "parameters": {},
      "start_time": "2024-06-06T18:06:04.373109",
      "version": "2.5.0"
    },
    "colab": {
      "provenance": [],
      "include_colab_link": true
    }
  },
  "nbformat": 4,
  "nbformat_minor": 5
}